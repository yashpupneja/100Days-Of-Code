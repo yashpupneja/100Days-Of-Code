{
 "cells": [
  {
   "cell_type": "markdown",
   "metadata": {},
   "source": [
    "## Space Complexity"
   ]
  },
  {
   "cell_type": "markdown",
   "metadata": {},
   "source": [
    "==>This is mathematical way to measure/quantify that how much time and space does a program/algo/solution takes."
   ]
  },
  {
   "cell_type": "markdown",
   "metadata": {},
   "source": [
    "==>e.g we have a list of size n "
   ]
  },
  {
   "cell_type": "markdown",
   "metadata": {},
   "source": [
    "==>Problem: Given a query 'q' find if q exisists in list "
   ]
  },
  {
   "cell_type": "markdown",
   "metadata": {},
   "source": [
    "==> Solution:CASE 1==> let q=32. First compare list[0] with 32 and compare with every element.At a position when it is found we say 32 exists in l @specific index position."
   ]
  },
  {
   "cell_type": "markdown",
   "metadata": {},
   "source": [
    "==> CASE 2==>If q=325, We will search but 325 is not found in list we will say 32 does not exist in list l."
   ]
  },
  {
   "cell_type": "markdown",
   "metadata": {},
   "source": [
    "==> CASE 3==>If q=31 and we find this at last index so we will say that 31 exists in l@ index(n-1)"
   ]
  },
  {
   "cell_type": "markdown",
   "metadata": {},
   "source": [
    "==> In case 1 we did 8 comparisons and in case 2 and 3 we did n comparisons "
   ]
  },
  {
   "cell_type": "markdown",
   "metadata": {},
   "source": [
    "==>In worst case===>n comparisons"
   ]
  },
  {
   "cell_type": "markdown",
   "metadata": {},
   "source": [
    "==>In best case===>1 comparison"
   ]
  },
  {
   "cell_type": "markdown",
   "metadata": {},
   "source": [
    "==> In average====>roughly n comparisons"
   ]
  },
  {
   "cell_type": "markdown",
   "metadata": {},
   "source": [
    "==> As n increases; my #comparisons increases propotional to n "
   ]
  },
  {
   "cell_type": "markdown",
   "metadata": {},
   "source": [
    "==> Each comparison takes some time."
   ]
  },
  {
   "cell_type": "code",
   "execution_count": 8,
   "metadata": {},
   "outputs": [
    {
     "data": {
      "text/plain": [
       "[15,\n",
       " 89,\n",
       " 90,\n",
       " 28,\n",
       " 21,\n",
       " 2,\n",
       " 93,\n",
       " 6,\n",
       " 82,\n",
       " 44,\n",
       " 67,\n",
       " 50,\n",
       " 14,\n",
       " 10,\n",
       " 47,\n",
       " 53,\n",
       " 48,\n",
       " 55,\n",
       " 99,\n",
       " 57,\n",
       " 70,\n",
       " 79,\n",
       " 0,\n",
       " 63,\n",
       " 34,\n",
       " 83,\n",
       " 41,\n",
       " 94,\n",
       " 72,\n",
       " 69,\n",
       " 11,\n",
       " 52,\n",
       " 78,\n",
       " 22,\n",
       " 36,\n",
       " 26,\n",
       " 5,\n",
       " 76,\n",
       " 61,\n",
       " 18,\n",
       " 39,\n",
       " 49,\n",
       " 31,\n",
       " 16,\n",
       " 88,\n",
       " 24,\n",
       " 58,\n",
       " 4,\n",
       " 95,\n",
       " 40,\n",
       " 73,\n",
       " 12,\n",
       " 80,\n",
       " 33,\n",
       " 91,\n",
       " 42,\n",
       " 8,\n",
       " 92,\n",
       " 35,\n",
       " 97,\n",
       " 17,\n",
       " 84,\n",
       " 65,\n",
       " 20,\n",
       " 3,\n",
       " 66,\n",
       " 46,\n",
       " 38,\n",
       " 64,\n",
       " 27,\n",
       " 43,\n",
       " 37,\n",
       " 29,\n",
       " 98,\n",
       " 77,\n",
       " 7,\n",
       " 9,\n",
       " 85,\n",
       " 96,\n",
       " 13,\n",
       " 75,\n",
       " 59,\n",
       " 19,\n",
       " 81,\n",
       " 1,\n",
       " 74,\n",
       " 62,\n",
       " 86,\n",
       " 71,\n",
       " 87,\n",
       " 23,\n",
       " 56,\n",
       " 60,\n",
       " 32,\n",
       " 51,\n",
       " 30,\n",
       " 54,\n",
       " 25,\n",
       " 45,\n",
       " 68]"
      ]
     },
     "execution_count": 8,
     "metadata": {},
     "output_type": "execute_result"
    }
   ],
   "source": [
    "import numpy as np\n",
    "import random\n",
    "l=list(range(100))\n",
    "random.shuffle(l)\n",
    "\n",
    "l"
   ]
  },
  {
   "cell_type": "code",
   "execution_count": 9,
   "metadata": {},
   "outputs": [
    {
     "name": "stdout",
     "output_type": "stream",
     "text": [
      "Found\n"
     ]
    }
   ],
   "source": [
    "#search for an element q in the list:O(n) where n is the length of the list\n",
    "q=31\n",
    "isFound=False;\n",
    "for ele in l:\n",
    "    if ele == 31:\n",
    "        print('Found')\n",
    "        isFound=True\n",
    "        break;\n",
    "if isFound==False:\n",
    "    print(\"Not Found\")"
   ]
  },
  {
   "cell_type": "markdown",
   "metadata": {},
   "source": [
    "==> If my program takes \"4n+4\" time units.Then time complexity of O(n)"
   ]
  },
  {
   "cell_type": "markdown",
   "metadata": {},
   "source": [
    "==> If my program takes \"3n^2 +2n+4\"(where n^2>n>1) time units , then time complexity is O(n^2) "
   ]
  },
  {
   "cell_type": "markdown",
   "metadata": {},
   "source": [
    "==> Input of size n: The time unit=\"4log n +3\", then time complexity is O(log n)"
   ]
  },
  {
   "cell_type": "markdown",
   "metadata": {},
   "source": [
    "==> Different types of complexities:"
   ]
  },
  {
   "cell_type": "markdown",
   "metadata": {},
   "source": [
    "=> O(n^2)"
   ]
  },
  {
   "cell_type": "markdown",
   "metadata": {},
   "source": [
    "=>O(n^3)"
   ]
  },
  {
   "cell_type": "markdown",
   "metadata": {},
   "source": [
    "=> O(n)"
   ]
  },
  {
   "cell_type": "markdown",
   "metadata": {},
   "source": [
    "=>O(lg n)"
   ]
  },
  {
   "cell_type": "markdown",
   "metadata": {},
   "source": [
    "=> O(1)"
   ]
  },
  {
   "cell_type": "markdown",
   "metadata": {},
   "source": [
    "=>O(n lg n)"
   ]
  },
  {
   "cell_type": "markdown",
   "metadata": {},
   "source": [
    "## Binary Search"
   ]
  },
  {
   "cell_type": "markdown",
   "metadata": {},
   "source": [
    "Lower time complexity and lower space complexity better it is."
   ]
  },
  {
   "cell_type": "markdown",
   "metadata": {},
   "source": [
    "O(n)==>Time  ;  O(1)==> Space <-----------Sequential search"
   ]
  },
  {
   "cell_type": "markdown",
   "metadata": {},
   "source": [
    "O(lg n)   ;  lg(n)<=n ===> n=2-->"
   ]
  },
  {
   "cell_type": "markdown",
   "metadata": {},
   "source": [
    "lg(n)=1"
   ]
  },
  {
   "cell_type": "markdown",
   "metadata": {},
   "source": [
    "n=4  ; lg(n)=2"
   ]
  },
  {
   "cell_type": "markdown",
   "metadata": {},
   "source": [
    "n=8  ;  lg(n)=3"
   ]
  },
  {
   "cell_type": "markdown",
   "metadata": {},
   "source": [
    "n=16  ; lg(n)=4"
   ]
  },
  {
   "cell_type": "markdown",
   "metadata": {},
   "source": [
    "1.  List needs to be sorted ;"
   ]
  },
  {
   "cell_type": "markdown",
   "metadata": {},
   "source": [
    "2. Calculate middle element :m=[first +last/2]"
   ]
  },
  {
   "cell_type": "markdown",
   "metadata": {},
   "source": [
    "3. Compare m with the element we are searching for. If the element is less than m then consider m as the last else consider m as the first "
   ]
  },
  {
   "cell_type": "markdown",
   "metadata": {},
   "source": [
    "4. Repeat the same process till wwe get where the element is ."
   ]
  },
  {
   "cell_type": "code",
   "execution_count": 7,
   "metadata": {},
   "outputs": [
    {
     "data": {
      "text/plain": [
       "31"
      ]
     },
     "execution_count": 7,
     "metadata": {},
     "output_type": "execute_result"
    }
   ],
   "source": [
    "import math\n",
    "\n",
    "#Returns index of x in arr if present,else -1\n",
    "def binarySearch(arr,l,r,x):\n",
    "    \n",
    "    # Check base case\n",
    "    if r>=l:\n",
    "        \n",
    "        mid=l+math.floor((r-l)/2)\n",
    "        \n",
    "        #If element is present at the middle itself \n",
    "        if arr[mid]==x:\n",
    "            return mid\n",
    "        \n",
    "        #if element is smaller than mid , then it can only be present in left subarray\n",
    "        elif arr[mid]>x:\n",
    "            return binarySearch(arr, l, mid-1, x)\n",
    "        \n",
    "        #else the element can only be present in the right sub array\n",
    "        else:\n",
    "            return binarySearch(arr,mid+1,r,x)\n",
    "    else:\n",
    "        #Element is not present in the array\n",
    "        return -1\n",
    "    \n",
    "l.sort();\n",
    "arr=l;\n",
    "q=31;\n",
    "binarySearch(arr,0,len(arr)-1,q)"
   ]
  },
  {
   "cell_type": "code",
   "execution_count": 10,
   "metadata": {},
   "outputs": [
    {
     "name": "stdout",
     "output_type": "stream",
     "text": [
      "10\n",
      "31\n",
      "4\n",
      "33\n",
      "13\n",
      "11\n",
      "28\n",
      "24\n",
      "41\n",
      "20\n",
      "8\n",
      "12\n",
      "40\n",
      "42\n",
      "15\n",
      "2\n",
      "47\n",
      "38\n",
      "35\n",
      "27\n",
      "17\n",
      "46\n",
      "16\n",
      "48\n",
      "25\n",
      "9\n",
      "7\n",
      "45\n",
      "0\n",
      "34\n",
      "30\n",
      "1\n",
      "39\n",
      "32\n",
      "36\n",
      "22\n",
      "49\n",
      "18\n",
      "23\n",
      "19\n",
      "37\n",
      "3\n",
      "21\n",
      "44\n",
      "29\n",
      "26\n",
      "5\n",
      "6\n",
      "14\n",
      "43\n",
      "Number of common elements:  50\n"
     ]
    }
   ],
   "source": [
    "#Find common elements in 2 lists (lists are not sorted  )\n",
    "l1=list(range(100))\n",
    "random.shuffle(l1)\n",
    "\n",
    "l2=list(range(50))\n",
    "random.shuffle(l2)\n",
    "\n",
    "#find common elements: O(n*m)\n",
    "cnt=0;\n",
    "for i in l1:\n",
    "    for j in l2:\n",
    "        if i==j:\n",
    "            print(i)\n",
    "            cnt+=1;\n",
    "print(\"Number of common elements: \",cnt)"
   ]
  },
  {
   "cell_type": "code",
   "execution_count": 12,
   "metadata": {},
   "outputs": [
    {
     "name": "stdout",
     "output_type": "stream",
     "text": [
      "2\n",
      "21\n",
      "39\n",
      "14\n",
      "25\n",
      "49\n",
      "11\n",
      "30\n",
      "29\n",
      "44\n",
      "36\n",
      "34\n",
      "35\n",
      "23\n",
      "4\n",
      "43\n",
      "7\n",
      "47\n",
      "31\n",
      "1\n",
      "41\n",
      "37\n",
      "3\n",
      "0\n",
      "6\n",
      "5\n",
      "26\n",
      "19\n",
      "40\n",
      "20\n",
      "32\n",
      "27\n",
      "17\n",
      "8\n",
      "24\n",
      "13\n",
      "15\n",
      "46\n",
      "48\n",
      "33\n",
      "16\n",
      "42\n",
      "38\n",
      "18\n",
      "12\n",
      "28\n",
      "10\n",
      "22\n",
      "9\n",
      "45\n",
      "Number of common elements:  50\n"
     ]
    }
   ],
   "source": [
    "#Reducing the time complexity\n",
    "l1=list(range(100))\n",
    "random.shuffle(l1)\n",
    "\n",
    "l2=list(range(50))\n",
    "random.shuffle(l2)\n",
    "#find common elements in list in O(n) time and O(m) space if m<n\n",
    "\n",
    "## add all elements in the smallest list into a hashtable /Dict: O(m) space\n",
    "smallList={}\n",
    "for ele in l2:\n",
    "    smallList[ele]=1 ; #any value is ok. Key is important\n",
    "    \n",
    "#Now find common element\n",
    "cnt=0\n",
    "for i in l1:\n",
    "    if smallList.get(i)!=None: #search happens in constant time.\n",
    "        print(i);\n",
    "        cnt+=1;\n",
    "print(\"Number of common elements: \",cnt)"
   ]
  },
  {
   "cell_type": "code",
   "execution_count": null,
   "metadata": {},
   "outputs": [],
   "source": []
  }
 ],
 "metadata": {
  "kernelspec": {
   "display_name": "Python 3",
   "language": "python",
   "name": "python3"
  },
  "language_info": {
   "codemirror_mode": {
    "name": "ipython",
    "version": 3
   },
   "file_extension": ".py",
   "mimetype": "text/x-python",
   "name": "python",
   "nbconvert_exporter": "python",
   "pygments_lexer": "ipython3",
   "version": "3.6.5"
  }
 },
 "nbformat": 4,
 "nbformat_minor": 2
}
