{
 "cells": [
  {
   "cell_type": "code",
   "execution_count": 3,
   "metadata": {},
   "outputs": [],
   "source": [
    "import random"
   ]
  },
  {
   "cell_type": "code",
   "execution_count": 4,
   "metadata": {},
   "outputs": [
    {
     "name": "stdout",
     "output_type": "stream",
     "text": [
      " Input 1:  3\n",
      "1=stone , 2=paper , 3=scissor\n",
      "Enter your choice considering the above:2\n",
      "You lost\n"
     ]
    }
   ],
   "source": [
    "user1=random.randint(1,3)\n",
    "print (\" Input 1: \",user1)\n",
    "print(\"1=stone , 2=paper , 3=scissor\")\n",
    "user2=int(input('Enter your choice considering the above:'))\n",
    "if (user1 == 1) and (user2 == 2):\n",
    "          print (\"You won\")\n",
    "elif (user1==2) and (user2==3):\n",
    "          print(\"You won\")\n",
    "elif (user1==3) and (user2==1):\n",
    "          print(\"You won\")\n",
    "elif user1==user2:\n",
    "          print(\"Tie\")\n",
    "else:\n",
    "          print(\"You lost\")"
   ]
  },
  {
   "cell_type": "code",
   "execution_count": null,
   "metadata": {},
   "outputs": [],
   "source": []
  }
 ],
 "metadata": {
  "kernelspec": {
   "display_name": "Python 3",
   "language": "python",
   "name": "python3"
  },
  "language_info": {
   "codemirror_mode": {
    "name": "ipython",
    "version": 3
   },
   "file_extension": ".py",
   "mimetype": "text/x-python",
   "name": "python",
   "nbconvert_exporter": "python",
   "pygments_lexer": "ipython3",
   "version": "3.6.5"
  }
 },
 "nbformat": 4,
 "nbformat_minor": 2
}
