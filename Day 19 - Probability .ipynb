{
 "cells": [
  {
   "cell_type": "markdown",
   "metadata": {},
   "source": [
    "###### Fundamental area\n",
    "###### Histogram,PDF,CDF,mean,variance,stadard variation\n",
    "##### ---->Random-variable:"
   ]
  },
  {
   "cell_type": "markdown",
   "metadata": {},
   "source": [
    "Consider a dice of six-sides--->>>{1,2,3,4,5,6}\n",
    "\n",
    "Rolling a fair dice :random variable={1,2,3,4,5,6}"
   ]
  },
  {
   "cell_type": "markdown",
   "metadata": {},
   "source": [
    "P(X=1)=P(X=2)=1/6"
   ]
  },
  {
   "cell_type": "markdown",
   "metadata": {},
   "source": [
    "P(X is even)=1/2=P(x=2)+P(X=4)+P(X=6)"
   ]
  },
  {
   "cell_type": "markdown",
   "metadata": {},
   "source": [
    "1. Discrete random variable: Variables which can take values from a specific set of  values   "
   ]
  },
  {
   "cell_type": "markdown",
   "metadata": {},
   "source": [
    "2. Continuous random variable : Variable which may be in the range of the specific two values."
   ]
  },
  {
   "cell_type": "markdown",
   "metadata": {},
   "source": [
    " 3. Outlier: Let Y:height of A student\n",
    " \n",
    " {122.2,146.4,132.5,...........,12.26,156.23}:Hence it is outliner such as 12.26 as it is different from other values"
   ]
  },
  {
   "cell_type": "markdown",
   "metadata": {},
   "source": [
    "### Population And Sample:"
   ]
  },
  {
   "cell_type": "markdown",
   "metadata": {},
   "source": [
    "Let us consider a set of all the people in the world : This is population\n",
    "\n",
    "Now we want to find the estimate the average height of a human being ........... which is not possible and hence we see  them as mean .Hence a random sample is taken from population which is a subset of population of people and calculating their mean. \n",
    "\n",
    "As sample size increases , the samplemean is coming closer to population mean.\n",
    "\n",
    "Here height is the sample and the people in universe are the popultion"
   ]
  },
  {
   "cell_type": "markdown",
   "metadata": {},
   "source": [
    "### Gaussian Distribution"
   ]
  },
  {
   "cell_type": "markdown",
   "metadata": {},
   "source": [
    "The bellshape curve is the probability density function of gaussian distribution of random variable.\n",
    "\n",
    "It occurs a lot in real life problems\n",
    "\n",
    "1. Height , width of people \n",
    "2. Petal Length and petal width \n",
    "\n",
    "Distributions are very very simple models of natural behaviour\n",
    "\n",
    "e.g Petal Length follow Gaussian distribution and hence we can tell various properties of the same without having measured petal length\n",
    "\n",
    "Gaussian distribution also called normal distribution: https://en.wikipedia.org/wiki/Normal_distribution  \n",
    "Here mean and variance is given and these are the basic parameters of the gaussian distribution.\n",
    "\n",
    "If petalLength is  Gaussian distribution and only mean and variance are given then we can easily plot PDF of the bell shaped graph.  \n",
    "Variance is the measure of spread/scale and hence is used to plot the graph.  \n",
    "\n",
    "Higher the variance flatter the graph is much more clear from graph in wikipedia. Mean is used to tell the height/peak of bell shaped graph."
   ]
  },
  {
   "cell_type": "markdown",
   "metadata": {},
   "source": [
    "==>CDF:This looks like the second graph in wikipedia"
   ]
  },
  {
   "cell_type": "markdown",
   "metadata": {},
   "source": [
    "The shape of CDF curve is S-shaped."
   ]
  },
  {
   "cell_type": "markdown",
   "metadata": {},
   "source": [
    "As the variance increases CDF goes farther and farther away."
   ]
  },
  {
   "cell_type": "markdown",
   "metadata": {},
   "source": [
    "==>68-95-99.7 rule : https://en.wikipedia.org/wiki/Standard_deviatio \n",
    "\n",
    "==>e.g.: If X~N(150,25)\n",
    "\n",
    "==>Let X bet the height of the people.\n",
    "==>We can say that 68.2% of people has height between (150-25)125 -175(150+25),similarly 95% people have height between 100-200 and  99.7% of people have height between 75-225"
   ]
  },
  {
   "cell_type": "markdown",
   "metadata": {},
   "source": [
    "Gaussian distribution is a theoratical model which is observed in any natural phenomenon."
   ]
  },
  {
   "cell_type": "markdown",
   "metadata": {},
   "source": [
    "### Symmetric Distribution, Skewness, Kurtosis"
   ]
  },
  {
   "cell_type": "markdown",
   "metadata": {},
   "source": [
    "In Gaussian distribution, the mean was the center point and 50%points were to the left and 50% points were to the right and hence they were symmetric distribution."
   ]
  },
  {
   "cell_type": "markdown",
   "metadata": {},
   "source": [
    "==> Then unsymmetric distributions are represented by the skewness...https://en.wikipedia.org/wiki/Skewness"
   ]
  },
  {
   "cell_type": "markdown",
   "metadata": {},
   "source": [
    "==>Positive and negative skew distribution.\n",
    "\n",
    "==> Kurtosis : https://en.wikipedia.org/wiki/Kurtosis    \n",
    "        Black is Gaussian graph of well-known distributions. \n",
    "        Kurtosis determines the peakedness of the curve."
   ]
  },
  {
   "cell_type": "markdown",
   "metadata": {},
   "source": [
    "### Kernel Density Estimation"
   ]
  },
  {
   "cell_type": "markdown",
   "metadata": {},
   "source": [
    "From histogram we can convert to PDF by simply smoothing. "
   ]
  },
  {
   "cell_type": "markdown",
   "metadata": {},
   "source": [
    "It is done by this estimation."
   ]
  },
  {
   "cell_type": "markdown",
   "metadata": {},
   "source": [
    "We can convert histogram to PDF using the bell shaped cuve or a gaussian kernel.The variance is also known as bandwidth. "
   ]
  },
  {
   "cell_type": "markdown",
   "metadata": {},
   "source": [
    "### Quantile-Quantile(Q-Q)plot:"
   ]
  },
  {
   "cell_type": "markdown",
   "metadata": {},
   "source": [
    "X: x1,x2,x3.................x500\n",
    "    \n",
    "Is X Gaussian distribution?:---->QQplot(Graphical representation wether random variable is Gaussian distribution or not.)\n",
    "\n",
    "-------> Stastical Testing(KS,AD)"
   ]
  },
  {
   "cell_type": "markdown",
   "metadata": {},
   "source": [
    "1.   Sorting in ascending order (X)\n",
    "\n",
    "Calculate the percentile : 1st:x5; 2nd: x10; 3rd: x15...............100th:x500;\n",
    "                    \n",
    "2. Y~N(0,1)=====>Standard Normal Distribution\n",
    "\n",
    "y1,y2,y3..............y1000------->1000 observation from N(0,1)\n",
    "\n",
    "Repeating 1. \n",
    "\n",
    "3.    Plot QQplot using x1,x2,.........x100;y1,y2,................y100;\n",
    "\n",
    "if y(i) and x(i) lie on a straight line, then X and y have similar distribution"
   ]
  },
  {
   "cell_type": "markdown",
   "metadata": {},
   "source": [
    "==>QQ plots are often used to determine whether the random variable is Gaussian distribution of not??"
   ]
  },
  {
   "cell_type": "code",
   "execution_count": 6,
   "metadata": {},
   "outputs": [
    {
     "name": "stdout",
     "output_type": "stream",
     "text": [
      "0 -3.258395444325824\n",
      "1 -2.2686137830217166\n",
      "2 -2.008413805298248\n",
      "3 -1.922559341375856\n",
      "4 -1.7995694534813165\n",
      "5 -1.7451557356848024\n",
      "6 -1.6128645679469003\n",
      "7 -1.5194004186232293\n",
      "8 -1.45648620957737\n",
      "9 -1.3625824881405946\n",
      "10 -1.3337703176774478\n",
      "11 -1.2888800527046336\n",
      "12 -1.2230674631731324\n",
      "13 -1.1521321008966936\n",
      "14 -1.0833867557054202\n",
      "15 -1.0526042126234332\n",
      "16 -1.024015517518715\n",
      "17 -0.9857356732688307\n",
      "18 -0.950303044735601\n",
      "19 -0.9071977621567506\n",
      "20 -0.8746627321058686\n",
      "21 -0.8202908392651833\n",
      "22 -0.7860912028607326\n",
      "23 -0.7632091022032523\n",
      "24 -0.7410228198959155\n",
      "25 -0.701110241631137\n",
      "26 -0.6609015417277633\n",
      "27 -0.6289949308224119\n",
      "28 -0.5841480789110854\n",
      "29 -0.5573238804051318\n",
      "30 -0.5402383631739904\n",
      "31 -0.5163286444173134\n",
      "32 -0.47324875503730374\n",
      "33 -0.4517576344523322\n",
      "34 -0.41404484811924935\n",
      "35 -0.3940637108511298\n",
      "36 -0.3701258170402083\n",
      "37 -0.3420394210741499\n",
      "38 -0.3167998295307799\n",
      "39 -0.2918256868016326\n",
      "40 -0.2626837961896142\n",
      "41 -0.2483403925760394\n",
      "42 -0.23298631760557242\n",
      "43 -0.20629604819081954\n",
      "44 -0.15099953897155133\n",
      "45 -0.12127868647582046\n",
      "46 -0.104088861401474\n",
      "47 -0.08202945353866489\n",
      "48 -0.06305736342881671\n",
      "49 -0.03797152962737922\n",
      "50 -0.00571521396928251\n",
      "51 0.02596132458559403\n",
      "52 0.05083876184133128\n",
      "53 0.06973003436252724\n",
      "54 0.10894557406940993\n",
      "55 0.11964016908631483\n",
      "56 0.15494426412365414\n",
      "57 0.18679165097107894\n",
      "58 0.2013575979880402\n",
      "59 0.22894106928470884\n",
      "60 0.246618716490207\n",
      "61 0.2728037416616911\n",
      "62 0.30505832377882613\n",
      "63 0.32339797547870164\n",
      "64 0.3479932374531753\n",
      "65 0.3653372660221452\n",
      "66 0.3970787246656914\n",
      "67 0.4143736343917991\n",
      "68 0.43858403073712127\n",
      "69 0.4569748473803016\n",
      "70 0.47953479149354583\n",
      "71 0.5022456971748138\n",
      "72 0.5319041153786349\n",
      "73 0.560289990166468\n",
      "74 0.582578000170131\n",
      "75 0.6181801229861857\n",
      "76 0.6407883011935204\n",
      "77 0.673361617714975\n",
      "78 0.6968857910255737\n",
      "79 0.7232770460325337\n",
      "80 0.7586180348921964\n",
      "81 0.7976158457505516\n",
      "82 0.8396206469784426\n",
      "83 0.8995096979280089\n",
      "84 0.9588221691864565\n",
      "85 0.9840789469117666\n",
      "86 1.0407359237787979\n",
      "87 1.0776963583732098\n",
      "88 1.1166583927982459\n",
      "89 1.1833162973852278\n",
      "90 1.234030151695787\n",
      "91 1.3263735383485555\n",
      "92 1.3613404649658578\n",
      "93 1.4399951047652733\n",
      "94 1.498717823310703\n",
      "95 1.5663144512627292\n",
      "96 1.6478334472167586\n",
      "97 1.7742207513225612\n",
      "98 1.8972275345550904\n",
      "99 2.083653643655135\n",
      "100 3.355116347904312\n"
     ]
    }
   ],
   "source": [
    "#Q-Qplot\n",
    "import numpy as np\n",
    "import pylab\n",
    "import scipy.stats as stats\n",
    "\n",
    "#N(0,1)\n",
    "std_normal=np.random.normal(loc=0,scale=1,size=1000) #loc=mean,scale=std-deviation and size is 1000 so 1000 samples are taken. This is how we generate random observations\n",
    "\n",
    "#0 to 100th percentiles of std-normal\n",
    "for i in range(0,101):\n",
    "    print(i,np.percentile(std_normal,i))"
   ]
  },
  {
   "cell_type": "code",
   "execution_count": 10,
   "metadata": {},
   "outputs": [
    {
     "data": {
      "image/png": "[encoded data removed]",
      "text/plain": [
       "<Figure size 432x288 with 1 Axes>"
      ]
     },
     "metadata": {
      "needs_background": "light"
     },
     "output_type": "display_data"
    }
   ],
   "source": [
    "#generate 100 samples from N(20,5)\n",
    "measurements=np.random.normal(loc=20,scale=5,size=50000)\n",
    "\n",
    "stats.probplot(measurements,dist=\"norm\",plot=pylab)\n",
    "pylab.show()"
   ]
  },
  {
   "cell_type": "markdown",
   "metadata": {},
   "source": [
    "==>As my number of samples increases  more the points lie on the line.\n",
    "\n",
    "==>Limitation:If observation is small its hard to interpret QQ plot"
   ]
  },
  {
   "cell_type": "code",
   "execution_count": 13,
   "metadata": {},
   "outputs": [
    {
     "data": {
      "image/png": "[encoded data removed]",
      "text/plain": [
       "<Figure size 432x288 with 1 Axes>"
      ]
     },
     "metadata": {
      "needs_background": "light"
     },
     "output_type": "display_data"
    }
   ],
   "source": [
    "#generate 100 samples from N(20,5)\n",
    "measurements=np.random.uniform(low=-1,high=1,size=50000)\n",
    "\n",
    "stats.probplot(measurements,dist=\"norm\",plot=pylab)\n",
    "pylab.show()\n",
    "\n",
    "#x=Gaussian distributon and y =Uniform distribution "
   ]
  },
  {
   "cell_type": "markdown",
   "metadata": {},
   "source": [
    "### Another application\n",
    "\n",
    "Given any  two random variable X and y : Does X and Y have the same distribution or not."
   ]
  },
  {
   "cell_type": "markdown",
   "metadata": {},
   "source": [
    "If x axis and y axis lie on the straight lines i.e the points lie on the line then they are of same distribution else they are of different distribution."
   ]
  },
  {
   "cell_type": "markdown",
   "metadata": {},
   "source": [
    "# How / Where do we use these above distributions in our real life?"
   ]
  },
  {
   "cell_type": "markdown",
   "metadata": {},
   "source": [
    "==>In a nutshell, all the concepts of probability(random variable, pdf,cdf,gaussian distribution,68.95.99.7 rule) are used in data analysis. It is all about answering questions about data itself. "
   ]
  },
  {
   "cell_type": "markdown",
   "metadata": {},
   "source": [
    "==> Consider you are working in a company XYZ . Your task is to order t-shirt for the employees ."
   ]
  },
  {
   "cell_type": "markdown",
   "metadata": {},
   "source": [
    "==> Considering this we know that we have different sizes available such as : Small , Medium,Large, Extra Large. And another thing there are 100K employees."
   ]
  },
  {
   "cell_type": "markdown",
   "metadata": {},
   "source": [
    "==>Q1)  How many XL tshirts should you order?:\n",
    "\n",
    "1. Collect data for all 100K employees.\n",
    "\n",
    "OR\n",
    "\n",
    "2. Typically people over height>=180cm==>XL t-shirt\n",
    "                                           Height=[160-180]==>L t-shirt"
   ]
  },
  {
   "cell_type": "markdown",
   "metadata": {},
   "source": [
    "**Collect heights of 500 random employees : hence we can find the mean and standard deviation"
   ]
  },
  {
   "cell_type": "markdown",
   "metadata": {},
   "source": [
    "if heights~N(mean,std-dev)  [This is told by doctor]\n",
    "\n",
    "P(h>=180)==>Can be plotted PDF And CDF\n",
    "which will help to answer the several answers like the number of tshirts you should order"
   ]
  },
  {
   "cell_type": "markdown",
   "metadata": {},
   "source": [
    "==>Q2) Show the salaries of all the employees in company?"
   ]
  },
  {
   "cell_type": "markdown",
   "metadata": {},
   "source": [
    "#### If S~N(mean,std-dev) \n",
    "\n",
    "then we can answer questions like these :\n",
    "1) How many employees can make salary >=100K $?\n",
    "\n",
    "2) How many employees make a salary of [$50K , $70K]?"
   ]
  },
  {
   "cell_type": "markdown",
   "metadata": {},
   "source": [
    "To check whether Salary S is a Gaussian distribution or not can be checked through the QQ- Plots."
   ]
  },
  {
   "cell_type": "markdown",
   "metadata": {},
   "source": [
    "Hence Gaussian distribution is giving the theoratical model of the distribution of data along obseved in any natural phenomenon. "
   ]
  },
  {
   "cell_type": "code",
   "execution_count": null,
   "metadata": {},
   "outputs": [],
   "source": []
  }
 ],
 "metadata": {
  "kernelspec": {
   "display_name": "Python 3",
   "language": "python",
   "name": "python3"
  },
  "language_info": {
   "codemirror_mode": {
    "name": "ipython",
    "version": 3
   },
   "file_extension": ".py",
   "mimetype": "text/x-python",
   "name": "python",
   "nbconvert_exporter": "python",
   "pygments_lexer": "ipython3",
   "version": "3.6.5"
  }
 },
 "nbformat": 4,
 "nbformat_minor": 2
}
