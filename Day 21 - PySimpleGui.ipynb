{
 "cells": [
  {
   "cell_type": "code",
   "execution_count": 1,
   "metadata": {},
   "outputs": [
    {
     "data": {
      "text/plain": [
       "'OK'"
      ]
     },
     "execution_count": 1,
     "metadata": {},
     "output_type": "execute_result"
    }
   ],
   "source": [
    "import PySimpleGUI as sg\n",
    "\n",
    "sg.Popup('Hello From PySimpleGUI!', 'This is the shortest GUI program ever!')"
   ]
  },
  {
   "cell_type": "code",
   "execution_count": 2,
   "metadata": {},
   "outputs": [
    {
     "data": {
      "text/plain": [
       "'OK'"
      ]
     },
     "execution_count": 2,
     "metadata": {},
     "output_type": "execute_result"
    }
   ],
   "source": [
    "var1=132\n",
    "var2=43645\n",
    "sg.Popup('Variable number of parameter example : ',var1,var2)"
   ]
  },
  {
   "cell_type": "code",
   "execution_count": 3,
   "metadata": {},
   "outputs": [
    {
     "data": {
      "text/plain": [
       "'No'"
      ]
     },
     "execution_count": 3,
     "metadata": {},
     "output_type": "execute_result"
    }
   ],
   "source": [
    "import PySimpleGUI as sg\n",
    "sg.Popup('Popup')\n",
    "sg.PopupYesNo('YesNo')\n"
   ]
  },
  {
   "cell_type": "code",
   "execution_count": 4,
   "metadata": {},
   "outputs": [
    {
     "data": {
      "text/plain": [
       "<PySimpleGUI.PySimpleGUI.Button at 0x1d6c6552438>"
      ]
     },
     "execution_count": 4,
     "metadata": {},
     "output_type": "execute_result"
    }
   ],
   "source": [
    "import PySimpleGUI as sg\n",
    "sg.Button('Ok')\n",
    "sg.Button('Cancel')"
   ]
  },
  {
   "cell_type": "code",
   "execution_count": 5,
   "metadata": {},
   "outputs": [
    {
     "data": {
      "text/plain": [
       "'OK'"
      ]
     },
     "execution_count": 5,
     "metadata": {},
     "output_type": "execute_result"
    }
   ],
   "source": [
    "import PySimpleGUI as sg\n",
    "layout = [[sg.Text('Enter a number')],      \n",
    "              [sg.Input()],      \n",
    "              [sg.OK() ]      ]\n",
    "window=sg.Window('Enter a number example',layout)\n",
    "event, number = window.Read()\n",
    "window.Close()\n",
    "\n",
    "inputq=number[0]\n",
    "sg.Popup(inputq)"
   ]
  },
  {
   "cell_type": "code",
   "execution_count": 6,
   "metadata": {},
   "outputs": [
    {
     "name": "stdout",
     "output_type": "stream",
     "text": [
      "{0: 'ONE', 1: 'TWO'}\n"
     ]
    },
    {
     "data": {
      "text/plain": [
       "'OK'"
      ]
     },
     "execution_count": 6,
     "metadata": {},
     "output_type": "execute_result"
    }
   ],
   "source": [
    "import PySimpleGUI as sg\n",
    "layout=[[sg.Text('My one-shot window.')],\n",
    "       [sg.InputText()],\n",
    "       [sg.InputText()],\n",
    "       [sg.Submit(),sg.Cancel()]]\n",
    "\n",
    "window=sg.Window('Window Title', layout)\n",
    "\n",
    "\n",
    "event,values=window.Read()\n",
    "window.Close()\n",
    "\n",
    "text_input=values\n",
    "print(values)\n",
    "sg.Popup(text_input)"
   ]
  },
  {
   "cell_type": "code",
   "execution_count": 9,
   "metadata": {},
   "outputs": [
    {
     "name": "stdout",
     "output_type": "stream",
     "text": [
      "Read {0: 'HI'}\n",
      "Read {0: 'KEEP GOING'}\n",
      "Read {0: 'EXIT'}\n"
     ]
    }
   ],
   "source": [
    "import PySimpleGUI as sg      \n",
    "\n",
    "layout = [[sg.Text('Persistent window')],      \n",
    "          [sg.Input(do_not_clear=True)],      \n",
    "          [sg.Button('Read'), sg.Exit()]]      \n",
    "\n",
    "window = sg.Window('Window that stays open', layout)      \n",
    "\n",
    "while True:      \n",
    "    event, values = window.Read()      \n",
    "    if event is None or event == 'Exit':      \n",
    "        break      \n",
    "    print(event, values)    \n",
    "\n",
    "window.Close()"
   ]
  },
  {
   "cell_type": "code",
   "execution_count": 10,
   "metadata": {},
   "outputs": [
    {
     "name": "stdout",
     "output_type": "stream",
     "text": [
      "Submit Yash lki 9878667\n"
     ]
    }
   ],
   "source": [
    "import PySimpleGUI as sg\n",
    "layout = [      \n",
    "              [sg.Text('Please enter your Name, Address, Phone')],      \n",
    "              [sg.Text('Name', size=(15, 1)), sg.InputText()],      \n",
    "              [sg.Text('Address', size=(15, 1)), sg.InputText()],      \n",
    "              [sg.Text('Phone', size=(15, 1)), sg.InputText()],      \n",
    "              [sg.Submit(), sg.Cancel()]      \n",
    "             ]      \n",
    "\n",
    "window = sg.Window('Simple data entry window', layout)  \n",
    "event, values = window.Read()   \n",
    "window.Close()\n",
    "print(event, values[0], values[1], values[2])      "
   ]
  },
  {
   "cell_type": "code",
   "execution_count": 11,
   "metadata": {},
   "outputs": [
    {
     "data": {
      "text/plain": [
       "'OK'"
      ]
     },
     "execution_count": 11,
     "metadata": {},
     "output_type": "execute_result"
    }
   ],
   "source": [
    "import  PySimpleGUI as sg \n",
    "layout=[\n",
    "    [sg.Text('Pythagoras Theorem')],\n",
    "    [sg.Text('Base: ',size=(15,1)),sg.InputText()],\n",
    "    [sg.Text('Height: ',size=(15,1)),sg.InputText()],\n",
    "    [sg.Submit(),sg.Cancel()]\n",
    "]\n",
    "\n",
    "window=sg.Window('Simple Pythagoras Theorem',layout)\n",
    "event,values=window.Read()\n",
    "H=float(values[0])\n",
    "B=float(values[1])\n",
    "tr=float((H*H+B*B))\n",
    "hy=float(tr**0.5)\n",
    "window.Close()\n",
    "\n",
    "sg.Popup(hy)"
   ]
  },
  {
   "cell_type": "code",
   "execution_count": null,
   "metadata": {},
   "outputs": [],
   "source": []
  }
 ],
 "metadata": {
  "kernelspec": {
   "display_name": "Python 3",
   "language": "python",
   "name": "python3"
  },
  "language_info": {
   "codemirror_mode": {
    "name": "ipython",
    "version": 3
   },
   "file_extension": ".py",
   "mimetype": "text/x-python",
   "name": "python",
   "nbconvert_exporter": "python",
   "pygments_lexer": "ipython3",
   "version": "3.6.5"
  }
 },
 "nbformat": 4,
 "nbformat_minor": 2
}
