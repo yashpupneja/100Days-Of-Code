{
 "cells": [
  {
   "cell_type": "markdown",
   "metadata": {},
   "source": [
    "Two types:\n",
    "    \n",
    "    1. Discrete uniform distribution\n",
    "    2. Continuous uniform distribution"
   ]
  },
  {
   "cell_type": "markdown",
   "metadata": {},
   "source": [
    "We write probability Density Function(PDF) for Continuous random variable and we write probability mass function(PMF) for the discrete random variable."
   ]
  },
  {
   "cell_type": "markdown",
   "metadata": {},
   "source": [
    "https://en.wikipedia.org/wiki/Discrete_uniform_distribution"
   ]
  },
  {
   "cell_type": "markdown",
   "metadata": {},
   "source": [
    "Cumulative Distribution Function\n",
    "\n",
    "n=number of outcomes\n",
    "\n",
    "a,b =parameters\n",
    "\n",
    "u(a,b)"
   ]
  },
  {
   "cell_type": "markdown",
   "metadata": {},
   "source": [
    "==>Continuous Uniform distribution:\n",
    "    \n",
    "    https://en.wikipedia.org/wiki/Continuous_uniform_distribution\n",
    "        \n",
    "First two graphs alongwith the description."
   ]
  },
  {
   "cell_type": "markdown",
   "metadata": {},
   "source": [
    "## Sudo Random Number Generators(Uniform Distribution)"
   ]
  },
  {
   "cell_type": "code",
   "execution_count": 2,
   "metadata": {},
   "outputs": [
    {
     "name": "stdout",
     "output_type": "stream",
     "text": [
      "0.706197108851453\n"
     ]
    }
   ],
   "source": [
    "import random\n",
    "print(random.random())"
   ]
  },
  {
   "cell_type": "code",
   "execution_count": 3,
   "metadata": {},
   "outputs": [
    {
     "data": {
      "text/plain": [
       "(150, 4)"
      ]
     },
     "execution_count": 3,
     "metadata": {},
     "output_type": "execute_result"
    }
   ],
   "source": [
    "#Load IRIS dataset with 150 points\n",
    "from sklearn import datasets\n",
    "iris=datasets.load_iris()\n",
    "d=iris.data\n",
    "d.shape    # n=150 with 4 parameters"
   ]
  },
  {
   "cell_type": "code",
   "execution_count": 4,
   "metadata": {},
   "outputs": [
    {
     "data": {
      "text/plain": [
       "25"
      ]
     },
     "execution_count": 4,
     "metadata": {},
     "output_type": "execute_result"
    }
   ],
   "source": [
    "#Sample 30 points randomly from the 150 points dataset\n",
    "n=150\n",
    "m=30\n",
    "p=m/n #=0.2\n",
    "\n",
    "sampled_data=[]\n",
    "\n",
    "for i in range(0,n):\n",
    "    if random.random()<=p:     #u(0,1)==>random.random()\n",
    "        sampled_data.append(d[i,:])\n",
    "        \n",
    "len(sampled_data)"
   ]
  },
  {
   "cell_type": "markdown",
   "metadata": {},
   "source": [
    "## Bernouli and Binomial Distribution"
   ]
  },
  {
   "cell_type": "markdown",
   "metadata": {},
   "source": [
    "pmf is used as it uses discrete random variable "
   ]
  },
  {
   "cell_type": "markdown",
   "metadata": {},
   "source": [
    "## Log normal distribution"
   ]
  },
  {
   "cell_type": "markdown",
   "metadata": {},
   "source": [
    "Wikipedia----->real life problems we can see through these distributions"
   ]
  },
  {
   "cell_type": "markdown",
   "metadata": {},
   "source": [
    "We can test a random variable to be log normal or not by taking the log of each elementand checking whether they are Gaussian or not. if they are gaussian by QQ plot then the X variaable is log-normal"
   ]
  },
  {
   "cell_type": "markdown",
   "metadata": {},
   "source": [
    "PDF formula looks very similar to that of the Gaussian distribution and the only difference is of the log ."
   ]
  },
  {
   "cell_type": "markdown",
   "metadata": {},
   "source": [
    "Occurance and applications:  1. Human behaviours\n",
    "    dwell time:time spend on articless\n",
    "    \n",
    "    2. In finance and economics "
   ]
  },
  {
   "cell_type": "markdown",
   "metadata": {},
   "source": [
    "## Power Law Distributions"
   ]
  },
  {
   "cell_type": "markdown",
   "metadata": {},
   "source": [
    "Power law :  https://en.wikipedia.org/wiki/Power_law_probability_distributions"
   ]
  },
  {
   "cell_type": "markdown",
   "metadata": {},
   "source": [
    "Long tail. This follows 80-20 rule:  Green area in the graph is 80% and the yellow area is 20%.\n",
    "\n",
    "The distribution that follows power law is known as Pareto distribution.  Two parameters of pareto distribution are scale (consider it as a mean) and shape( consider it as a standard deviation.)"
   ]
  },
  {
   "cell_type": "markdown",
   "metadata": {},
   "source": [
    " In PDF xm=1, the tails fattness increases as the alpha /scale decreases."
   ]
  },
  {
   "cell_type": "markdown",
   "metadata": {},
   "source": [
    "Dirac Delta Function is the one that has the value of alpha as infinity and hence has the straight line with a peak."
   ]
  },
  {
   "cell_type": "markdown",
   "metadata": {},
   "source": [
    "Applications of Pareto : Size of human settlements ,  hard disk errors rates, values of oil reserves"
   ]
  },
  {
   "cell_type": "markdown",
   "metadata": {},
   "source": [
    "Log-log plot helps us determine whether it is power law or not (Search in wikipedia) .Plot of log (y) vs log(x) except y vs x.  If the plot is straight line , then the it follows power law and for determination of pareto distribution we make use of QQ Plot."
   ]
  },
  {
   "cell_type": "markdown",
   "metadata": {},
   "source": [
    "## Box-cox transform"
   ]
  },
  {
   "cell_type": "markdown",
   "metadata": {},
   "source": [
    "scipy.stats.boxcox(x,lambda=None,alpha=None)\n",
    "\n",
    " It returns boxcox power transformed array"
   ]
  },
  {
   "cell_type": "code",
   "execution_count": 14,
   "metadata": {},
   "outputs": [],
   "source": [
    "from scipy import stats"
   ]
  },
  {
   "cell_type": "code",
   "execution_count": 15,
   "metadata": {},
   "outputs": [],
   "source": [
    "import matplotlib.pyplot as plt"
   ]
  },
  {
   "cell_type": "code",
   "execution_count": 16,
   "metadata": {},
   "outputs": [
    {
     "data": {
      "text/plain": [
       "Text(0.5, 1.0, 'Probplot against normal distribution')"
      ]
     },
     "execution_count": 16,
     "metadata": {},
     "output_type": "execute_result"
    },
    {
     "data": {
      "image/png": "[encoded data removed]",
      "text/plain": [
       "<Figure size 432x288 with 1 Axes>"
      ]
     },
     "metadata": {
      "needs_background": "light"
     },
     "output_type": "display_data"
    }
   ],
   "source": [
    "fig=plt.figure()\n",
    "axl=fig.add_subplot(211)\n",
    "x=stats.loggamma.rvs(5,size=500) + 5\n",
    "prob=stats.probplot(x, dist=stats.norm,plot=axl) #x:log gamma ,y:Normal distribution\n",
    "axl.set_xlabel(' ')\n",
    "axl.set_title('Probplot against normal distribution')"
   ]
  },
  {
   "cell_type": "code",
   "execution_count": 17,
   "metadata": {},
   "outputs": [],
   "source": [
    "ax2=fig.add_subplot(212)\n",
    "xt,_=stats.boxcox(x)\n",
    "prob=stats.probplot(xt,dist=stats.norm,plot=ax2)\n",
    "ax2.set_title('Probplot after Box-cox transformation')\n",
    "\n",
    "plt.show()"
   ]
  },
  {
   "cell_type": "markdown",
   "metadata": {},
   "source": [
    "#### Applications of non-Gaussians distributions"
   ]
  },
  {
   "cell_type": "markdown",
   "metadata": {},
   "source": [
    "There are 100s of distribution but why are these distributions needed?and what is benefit of these distribution."
   ]
  },
  {
   "cell_type": "markdown",
   "metadata": {},
   "source": [
    "A well studied distribution is a theoratical model tells us how a random variable works."
   ]
  },
  {
   "cell_type": "markdown",
   "metadata": {},
   "source": [
    "e.g.  In weibull distribution: In civil engineering , while constructing a dam we should know how much high the dam has to be.The height detemines the amount water is stored below the dam.To mitigate accidents of overflow of dams the civil engineers must look into how much rainfall will occur(maximum rainfall/day). Hence they calculated the probability. Now probability , can be calculated by probability and by distribution.\n",
    "\n",
    "By distribution first of allwe find out which distrubtion it satisfies , then we find the parameters and the PDF and CDF can be drawn which are really helpful in getting the useful things."
   ]
  },
  {
   "cell_type": "markdown",
   "metadata": {},
   "source": [
    "## Co-variance, Pearson Corelation Coefficient, Spearman Rank Coefficient"
   ]
  },
  {
   "cell_type": "markdown",
   "metadata": {},
   "source": [
    "co-variance ;\n",
    "\n",
    "pcc+ https://en.wikipedia.org/wiki/Pearson_correlation_coefficient"
   ]
  },
  {
   "cell_type": "markdown",
   "metadata": {},
   "source": [
    "The non linear graphs is not recognized by pcc."
   ]
  },
  {
   "cell_type": "markdown",
   "metadata": {},
   "source": [
    " Rank correlation coefficient: https://en.wikipedia.org/wiki/Spearman%27s_rank_correlation_coefficient"
   ]
  },
  {
   "cell_type": "code",
   "execution_count": null,
   "metadata": {},
   "outputs": [],
   "source": []
  }
 ],
 "metadata": {
  "kernelspec": {
   "display_name": "Python 3",
   "language": "python",
   "name": "python3"
  },
  "language_info": {
   "codemirror_mode": {
    "name": "ipython",
    "version": 3
   },
   "file_extension": ".py",
   "mimetype": "text/x-python",
   "name": "python",
   "nbconvert_exporter": "python",
   "pygments_lexer": "ipython3",
   "version": "3.6.5"
  }
 },
 "nbformat": 4,
 "nbformat_minor": 2
}
