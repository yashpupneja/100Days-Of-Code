{
 "cells": [
  {
   "cell_type": "markdown",
   "metadata": {},
   "source": [
    "# Confidence Interval"
   ]
  },
  {
   "cell_type": "markdown",
   "metadata": {},
   "source": [
    "Let us Take X->heights\n",
    "\n",
    "{x1,x2,x3,x4..........x10}==>Random sample from X of size 10\n",
    "\n",
    "Estimate the population mean of X=population-mean\n",
    "\n",
    "Taking the simple average as the sample mean .\n",
    "\n",
    "Population-mean is alomost equal to sample mean but there are some drawbacks.\n",
    "\n",
    "Such an estimate is the point estimate."
   ]
  },
  {
   "cell_type": "markdown",
   "metadata": {},
   "source": [
    "==>Let us assume heights of people in cm={180,162,158,172,168,150,171,183,165,176}\n",
    "\n",
    "==>Point Estimate of mean=(sum)/10=168.5\n",
    "\n",
    "==>if we give an estimate of mean as range [162.1,174.9](CONFIDENCE INTERVAL) with 95% probability"
   ]
  },
  {
   "cell_type": "markdown",
   "metadata": {},
   "source": [
    "Second statement is more richer than the first estimate"
   ]
  },
  {
   "cell_type": "markdown",
   "metadata": {},
   "source": [
    "## Computing CI given the underlying distribution"
   ]
  },
  {
   "cell_type": "markdown",
   "metadata": {},
   "source": [
    "Let us assume that X follows Gaussian distribution where X are the height\n",
    "\n",
    "X~  N(mean,std deviation);\n",
    "       Let mean=168cm, std dev=5cm"
   ]
  },
  {
   "cell_type": "markdown",
   "metadata": {},
   "source": [
    "###### Copy "
   ]
  },
  {
   "cell_type": "markdown",
   "metadata": {},
   "source": [
    "### Estimate CI of pop mean of a random variable:"
   ]
  },
  {
   "cell_type": "markdown",
   "metadata": {},
   "source": [
    "Case 1: std-dev is known CLT;N(mean,std-dev/sqrt(size))\n",
    "    \n",
    "Case 2: std-dev is unknown t-distribution"
   ]
  },
  {
   "cell_type": "code",
   "execution_count": null,
   "metadata": {},
   "outputs": [],
   "source": []
  }
 ],
 "metadata": {
  "kernelspec": {
   "display_name": "Python 3",
   "language": "python",
   "name": "python3"
  },
  "language_info": {
   "codemirror_mode": {
    "name": "ipython",
    "version": 3
   },
   "file_extension": ".py",
   "mimetype": "text/x-python",
   "name": "python",
   "nbconvert_exporter": "python",
   "pygments_lexer": "ipython3",
   "version": "3.6.5"
  }
 },
 "nbformat": 4,
 "nbformat_minor": 2
}
