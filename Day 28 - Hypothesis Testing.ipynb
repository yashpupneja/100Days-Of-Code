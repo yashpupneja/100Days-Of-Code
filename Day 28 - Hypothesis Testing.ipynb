{
 "cells": [
  {
   "cell_type": "markdown",
   "metadata": {},
   "source": [
    "Consider an example:\n",
    "    \n",
    "If there are two classes Cl1 with heights and Cl2 contains height of 50 students.\n",
    "\n",
    "Q.) Is there a difference in heights of students in cl1 and cl2 ?\n",
    "\n",
    "Ans.)1. Choosing a test statistic:If mean height of cl2-mean height of cl1 is 0 then there is no difference in height of students in class1 and class2.\n",
    "\n",
    "2. Null Hypothesis(H.): It is the assumption e.g there is no difference between the two means. \n",
    "\n",
    "Alternative Hypothesis : Opposite of null hypothesis e.g. there is difference in between two means.\n",
    "\n",
    "3. p-value(computational part): What is the probability of the observation? e.g what is the probability of observing the difference of means if null hypothesis is true. If we assume null hypothesis is true and we do not know for now how to calculate the p-value and hence p-value is given as 0.9 .This p-value means that the probability of difference is 0.9 even if the difference in the means of two classes is zero.\n",
    "\n",
    "If p-value=0.05 ==> only 5% chance that 10cm if null hypothesis is true.Hence accept alternate hypothesis ."
   ]
  },
  {
   "cell_type": "markdown",
   "metadata": {},
   "source": [
    "##### Another Example"
   ]
  },
  {
   "cell_type": "markdown",
   "metadata": {},
   "source": [
    "Given a coin , determine if the coin is biased towards heads or not.\n",
    "\n",
    "1. Biased towards heads:- P(H)>0.5\n",
    "     Not biased towards head:- P(H)=0.5\n",
    "     \n",
    "2. (Designing)Exp : Flip a coin 5 times and count the number of heads =X(random variable) <--- Test Statistics   Sample size =5(flips)\n",
    "\n",
    "3. (performing) Exp: When we made them flip then all the times we get head(H) and hence observation is X=5 \n",
    "\n",
    "4. P(X=5|coin is not biased towards head)(===>P(observation,Null hypothesis))=1/32=0.0=3%\n",
    "\n",
    "==> There is a 3% chance or probability of getting 5 heads in 5 flips if the coin is not biased towards head.\n",
    "\n",
    "P(observation by experiment| asumption)=3%(which is small)    \n",
    "\n",
    "If P(observation|Null hypothesis)<5% then null hypothesis may be incorrect OR we reject the null hypothesis. Hence we accept the idea that the coin is biased.Null hypothesis was that the coin is not biased towards head."
   ]
  },
  {
   "cell_type": "markdown",
   "metadata": {},
   "source": [
    "#### Key points of hypothesis testing "
   ]
  },
  {
   "cell_type": "markdown",
   "metadata": {},
   "source": [
    "1. Designing of the experiment\n",
    "\n",
    "2. Null Hypothesis such that the Probability computation is easy.\n",
    "\n",
    "3. If P-value<3% ==> Reject null hypothesis \n",
    "Probability of observation to null hypothesis is easy and feasible. "
   ]
  }
 ],
 "metadata": {
  "kernelspec": {
   "display_name": "Python 3",
   "language": "python",
   "name": "python3"
  },
  "language_info": {
   "codemirror_mode": {
    "name": "ipython",
    "version": 3
   },
   "file_extension": ".py",
   "mimetype": "text/x-python",
   "name": "python",
   "nbconvert_exporter": "python",
   "pygments_lexer": "ipython3",
   "version": "3.6.5"
  }
 },
 "nbformat": 4,
 "nbformat_minor": 2
}
