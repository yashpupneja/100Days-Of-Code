{
 "cells": [
  {
   "cell_type": "markdown",
   "metadata": {},
   "source": [
    "# Why learn Dimensionality?"
   ]
  },
  {
   "cell_type": "markdown",
   "metadata": {},
   "source": [
    "In 2d plots the classes are differentiated using a line whereas in 3D plots the classes are differentiated using plane . Similarly in 4D 5D and .....n-D but the the dimensions may be n but they need to be differentiated. "
   ]
  },
  {
   "cell_type": "markdown",
   "metadata": {},
   "source": [
    "Main Topics are as follows:\n",
    "\n",
    "    1. Introduction to vectors, row vector and column vector:\n",
    "        (a) Introduction to point/vector\n",
    "        (b) Distance of a point from origin\n",
    "        (c) Distance between 2 points\n",
    "        (d) Row ,column vector and matrices.\n",
    "        \n",
    "    2. Dot  Product and angle between 2 vectors:\n",
    "        (a) Dot Product Representation\n",
    "        (b) Multiplication of two types:\n",
    "            (I) Dot product\n",
    "            (II) Cross Product\n",
    "    \n",
    "    3. Projection and Unit vector:\n",
    "        (a) Unit vector is in same direction as in the direction of the vector\n",
    "        (b) Magnitude of unit vector is always 1\n",
    "        \n",
    "    4. Equations of :\n",
    "        (a) Line(2D)\n",
    "        (b) Plane(3D)\n",
    "        (c) HyperPlane (n-D)\n",
    "        (d) Plane passing through Origin\n",
    "        (e) Normal to the plane \n",
    "        \n",
    "    5. Distance of a point from a plane:\n",
    "        (a) Distance from hyperplane/plane\n",
    "        (b) Half spaces\n",
    "        \n",
    "    6. Equation of:\n",
    "        (a) Circle (2D)\n",
    "        (b) Sphere(3D)\n",
    "        (c) Hyper Sphere(nD)\n",
    "        \n",
    "    7. Equation of:\n",
    "        (a) Ellipse\n",
    "        (b) Ellipsoid\n",
    "        (c) Hyperellipsoid\n",
    "        "
   ]
  },
  {
   "cell_type": "code",
   "execution_count": null,
   "metadata": {},
   "outputs": [],
   "source": []
  }
 ],
 "metadata": {
  "kernelspec": {
   "display_name": "Python 3",
   "language": "python",
   "name": "python3"
  },
  "language_info": {
   "codemirror_mode": {
    "name": "ipython",
    "version": 3
   },
   "file_extension": ".py",
   "mimetype": "text/x-python",
   "name": "python",
   "nbconvert_exporter": "python",
   "pygments_lexer": "ipython3",
   "version": "3.6.5"
  }
 },
 "nbformat": 4,
 "nbformat_minor": 2
}
