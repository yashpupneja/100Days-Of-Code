{
 "cells": [
  {
   "cell_type": "code",
   "execution_count": 1,
   "metadata": {},
   "outputs": [],
   "source": [
    "import sys\n",
    "ipython = get_ipython()\n",
    "def exception_handler(exception_type, exception, traceback):\n",
    "    print(\"%s: %s\" % (exception_type.__name__, exception), file=sys.stderr)\n",
    "ipython._showtraceback = exception_handler"
   ]
  },
  {
   "cell_type": "markdown",
   "metadata": {},
   "source": [
    "## Collecting data from web-based sources\n",
    "\n",
    "With those general caveats in mind, let's dive a bit more deeply into the specific case of gather data from an web-based source, which is one of the more common forms of querying data.  It will also serve as an introduction to the type of Python coding that you'll do in this class.\n",
    "\n",
    "The first step of collecting web-based data is to issue a request for this data via some protocol: HTTP (HyperText Transfer Protocol) or HTTPS (the secure version).  And while I know that one of the principles of this course is to teach you how things work \"under the hood\" as well the common tools for doing so, we won't be concerned at all with the actual HTTP protocol or how these methods work in any detail; for our purposes, we're going to use the [requests](http://docs.python-requests.org/en/master/) library in Python.\n",
    "\n",
    "Let's see how this works with some code.  The following code will load data from the course webpage:"
   ]
  },
  {
   "cell_type": "code",
   "execution_count": 2,
   "metadata": {},
   "outputs": [
    {
     "name": "stdout",
     "output_type": "stream",
     "text": [
      "Status Code: 200\n",
      "Headers: {'Date': 'Mon, 05 Aug 2019 17:35:47 GMT', 'Server': 'Apache', 'x-xss-protection': '1; mode=block', 'x-content-type-options': 'nosniff', 'x-frame-options': 'SAMEORIGIN', 'Vary': 'Referer', 'Accept-Ranges': 'bytes', 'Cache-Control': 'max-age=7200, must-revalidate', 'Expires': 'Mon, 05 Aug 2019 19:35:47 GMT', 'Keep-Alive': 'timeout=5, max=500', 'Connection': 'Keep-Alive', 'Transfer-Encoding': 'chunked', 'Content-Type': 'text/html'}\n"
     ]
    }
   ],
   "source": [
    "import requests\n",
    "response = requests.get(\"http://www.cmu.edu\")\n",
    "\n",
    "print(\"Status Code:\", response.status_code)\n",
    "print(\"Headers:\", response.headers)"
   ]
  },
  {
   "cell_type": "code",
   "execution_count": 3,
   "metadata": {},
   "outputs": [
    {
     "name": "stdout",
     "output_type": "stream",
     "text": [
      "<!DOCTYPE html>\n",
      "<html lang=\"en\">\n",
      "<head>\n",
      "    <meta charset=\"utf-8\"/>\n",
      "    <meta content=\"IE=edge\" http-equiv=\"X-UA-Compatible\"/>\n",
      "    <meta content=\"width=device-width, initial-scale=1.0\" name=\"viewport\"/>\n",
      "    <title>Homepage -     CMU - Carnegie Mellon University</title>    \n",
      "    <meta content=\"CMU is a global research university known for its world-class, interdisciplinary programs: arts, business, computing, engineering, humanities, policy and science.\" name=\"description\"/>\n",
      "  \n"
     ]
    }
   ],
   "source": [
    "print(response.text[:480])"
   ]
  },
  {
   "cell_type": "code",
   "execution_count": 4,
   "metadata": {},
   "outputs": [
    {
     "name": "stdout",
     "output_type": "stream",
     "text": [
      "200\n"
     ]
    }
   ],
   "source": [
    "params = {\"query\": \"python download url content\", \"source\":\"chrome\"}\n",
    "response = requests.get(\"http://www.google.com/search\", params=params)\n",
    "print(response.status_code)"
   ]
  },
  {
   "cell_type": "markdown",
   "metadata": {},
   "source": [
    "Besides the HTTP GET command, there are other common HTTP commands (POST, PUT, DELETE) which can also be called by the corresponding function in the library."
   ]
  },
  {
   "cell_type": "markdown",
   "metadata": {},
   "source": [
    "### RESTful APIs"
   ]
  },
  {
   "cell_type": "code",
   "execution_count": 5,
   "metadata": {},
   "outputs": [
    {
     "name": "stdout",
     "output_type": "stream",
     "text": [
      "401\n",
      "application/json; charset=utf-8\n",
      "dict_keys(['message', 'documentation_url'])\n"
     ]
    }
   ],
   "source": [
    "# Get your own at https://github.com/settings/tokens/new\n",
    "token = \"3125e4430a58c5259a14ddd48157061cdb7055c0\" \n",
    "response = requests.get(\"https://api.github.com/user\", params={\"access_token\":token})\n",
    "\n",
    "print(response.status_code)\n",
    "print(response.headers[\"Content-Type\"])\n",
    "print(response.json().keys())"
   ]
  },
  {
   "cell_type": "markdown",
   "metadata": {},
   "source": [
    "### Authentication\n",
    "\n",
    "Most APIs will use an authentication procedure that is more involved than this example above.  The standard here for a while was called \"Basic Authentication\", and can be used via the requests library by simply passing the login and password as the auth argument to the relevant calls, as below. "
   ]
  },
  {
   "cell_type": "code",
   "execution_count": 6,
   "metadata": {},
   "outputs": [
    {
     "name": "stdout",
     "output_type": "stream",
     "text": [
      "401\n"
     ]
    }
   ],
   "source": [
    "response = requests.get(\"https://api.github.com/user\", auth=(\"zkolter\", \"github_password\"))\n",
    "print(response.status_code)"
   ]
  },
  {
   "cell_type": "markdown",
   "metadata": {},
   "source": [
    "## Common data formats and handling\n",
    "\n",
    "Now that you've obtained some data (either by requesting it from a web source, or just getting a file sent to you), you'll need to know how to handle that data format.  Obviously, data comes in many different formats, but some of the more common ones that you'll deal with as a data scientist are:\n",
    "\n",
    "- CSV (comma separated value) files\n",
    "- JSON (Javascript object notation) files and string\n",
    "- HTML/XML (hypertext markup language / extensible markup language) files and string\n"
   ]
  },
  {
   "cell_type": "markdown",
   "metadata": {},
   "source": [
    "### CSV files\n",
    "\n",
    "The \"CSV\" name is really a misnomer: CSV doesn't only refer to comma separated values, but really refers to any delimited text file (for instance, fields could be delimited by spaces or tabs, or any other character, specific to the file).  For example, let's take a look at the following data file describing weather data near at Pittsburg airport:"
   ]
  },
  {
   "cell_type": "raw",
   "metadata": {},
   "source": [
    "ZTime,Time,OAT,DT,SLP,WD,WS,SKY,PPT,PPT6,Plsr.Event,Plsr.Source\n",
    "20170820040000,20170820000000,178,172,10171,0,0,0,0,-9999,,\n",
    "20170820050000,20170820010000,178,172,10177,0,0,0,0,-9999,,\n",
    "20170820060000,20170820020000,167,161,10181,0,0,0,0,-9999,,\n",
    "20170820070000,20170820030000,161,161,10182,0,0,4,0,-9999,,\n",
    "20170820080000,20170820040000,156,156,10186,180,15,-9999,0,-9999,,\n",
    "20170820090000,20170820050000,161,161,10192,0,0,9,0,-9999,,\n",
    "20170820100000,20170820060000,156,156,10196,0,0,9,0,-9999,,\n",
    "20170820110000,20170820070000,150,150,-9999,0,0,-9999,0,-9999,,\n",
    "..."
   ]
  },
  {
   "cell_type": "code",
   "execution_count": 8,
   "metadata": {},
   "outputs": [
    {
     "data": {
      "text/html": [
       "<div>\n",
       "<style scoped>\n",
       "    .dataframe tbody tr th:only-of-type {\n",
       "        vertical-align: middle;\n",
       "    }\n",
       "\n",
       "    .dataframe tbody tr th {\n",
       "        vertical-align: top;\n",
       "    }\n",
       "\n",
       "    .dataframe thead th {\n",
       "        text-align: right;\n",
       "    }\n",
       "</style>\n",
       "<table border=\"1\" class=\"dataframe\">\n",
       "  <thead>\n",
       "    <tr style=\"text-align: right;\">\n",
       "      <th></th>\n",
       "      <th>ZTime</th>\n",
       "      <th>Time</th>\n",
       "      <th>OAT</th>\n",
       "      <th>DT</th>\n",
       "      <th>SLP</th>\n",
       "      <th>WD</th>\n",
       "      <th>WS</th>\n",
       "      <th>SKY</th>\n",
       "      <th>PPT</th>\n",
       "      <th>PPT6</th>\n",
       "      <th>Plsr.Event</th>\n",
       "      <th>Plsr.Source</th>\n",
       "    </tr>\n",
       "  </thead>\n",
       "  <tbody>\n",
       "    <tr>\n",
       "      <th>0</th>\n",
       "      <td>20170820040000</td>\n",
       "      <td>20170820000000</td>\n",
       "      <td>178</td>\n",
       "      <td>172</td>\n",
       "      <td>10171</td>\n",
       "      <td>0</td>\n",
       "      <td>0</td>\n",
       "      <td>0</td>\n",
       "      <td>0</td>\n",
       "      <td>-9999</td>\n",
       "      <td>NaN</td>\n",
       "      <td>NaN</td>\n",
       "    </tr>\n",
       "    <tr>\n",
       "      <th>1</th>\n",
       "      <td>20170820050000</td>\n",
       "      <td>20170820010000</td>\n",
       "      <td>178</td>\n",
       "      <td>172</td>\n",
       "      <td>10177</td>\n",
       "      <td>0</td>\n",
       "      <td>0</td>\n",
       "      <td>0</td>\n",
       "      <td>0</td>\n",
       "      <td>-9999</td>\n",
       "      <td>NaN</td>\n",
       "      <td>NaN</td>\n",
       "    </tr>\n",
       "    <tr>\n",
       "      <th>2</th>\n",
       "      <td>20170820060000</td>\n",
       "      <td>20170820020000</td>\n",
       "      <td>167</td>\n",
       "      <td>161</td>\n",
       "      <td>10181</td>\n",
       "      <td>0</td>\n",
       "      <td>0</td>\n",
       "      <td>0</td>\n",
       "      <td>0</td>\n",
       "      <td>-9999</td>\n",
       "      <td>NaN</td>\n",
       "      <td>NaN</td>\n",
       "    </tr>\n",
       "    <tr>\n",
       "      <th>3</th>\n",
       "      <td>20170820070000</td>\n",
       "      <td>20170820030000</td>\n",
       "      <td>161</td>\n",
       "      <td>161</td>\n",
       "      <td>10182</td>\n",
       "      <td>0</td>\n",
       "      <td>0</td>\n",
       "      <td>4</td>\n",
       "      <td>0</td>\n",
       "      <td>-9999</td>\n",
       "      <td>NaN</td>\n",
       "      <td>NaN</td>\n",
       "    </tr>\n",
       "    <tr>\n",
       "      <th>4</th>\n",
       "      <td>20170820080000</td>\n",
       "      <td>20170820040000</td>\n",
       "      <td>156</td>\n",
       "      <td>156</td>\n",
       "      <td>10186</td>\n",
       "      <td>180</td>\n",
       "      <td>15</td>\n",
       "      <td>-9999</td>\n",
       "      <td>0</td>\n",
       "      <td>-9999</td>\n",
       "      <td>NaN</td>\n",
       "      <td>NaN</td>\n",
       "    </tr>\n",
       "  </tbody>\n",
       "</table>\n",
       "</div>"
      ],
      "text/plain": [
       "            ZTime            Time  OAT   DT    SLP   WD  WS   SKY  PPT  PPT6  \\\n",
       "0  20170820040000  20170820000000  178  172  10171    0   0     0    0 -9999   \n",
       "1  20170820050000  20170820010000  178  172  10177    0   0     0    0 -9999   \n",
       "2  20170820060000  20170820020000  167  161  10181    0   0     0    0 -9999   \n",
       "3  20170820070000  20170820030000  161  161  10182    0   0     4    0 -9999   \n",
       "4  20170820080000  20170820040000  156  156  10186  180  15 -9999    0 -9999   \n",
       "\n",
       "   Plsr.Event  Plsr.Source  \n",
       "0         NaN          NaN  \n",
       "1         NaN          NaN  \n",
       "2         NaN          NaN  \n",
       "3         NaN          NaN  \n",
       "4         NaN          NaN  "
      ]
     },
     "execution_count": 8,
     "metadata": {},
     "output_type": "execute_result"
    }
   ],
   "source": [
    "import pandas as pd\n",
    "dataframe = pd.read_csv(\"H:\\SELF\\Yashu\\Courses\\Data Science\\L2 Data Collection and Scrapping\\data_collection\\data_collection\\kpit_weather.csv\", delimiter=\",\", quotechar='\"')\n",
    "dataframe.head()"
   ]
  },
  {
   "cell_type": "markdown",
   "metadata": {},
   "source": [
    "### JSON data\n",
    "\n",
    "Although originally built as a data format specific to the Javascript language, JSON (Javascript Object Notation) is another extremely common way to share data.  We've already seen in it with the GitHub API example above, but very briefly, JSON allows for storing a few different data types:\n",
    "\n",
    "- Numbers: e.g. `1.0`, either integers or floating point, but typically always parsed as floating point\n",
    "- Booleans: `true` or `false` (or `null`)\n",
    "- Strings: `\"string\"` characters enclosed in double quotes (the `\"` character then needs to be escaped as `\\\"`)\n",
    "- Arrays (lists): `[item1, item2, item3]` list of items, where item is any of the described data types\n",
    "- Objects (dictionaries): `{\"key1\":item1, \"key2\":item2}`, where the keys are strings and item is again any data type\n",
    "\n",
    "Note that lists and dictionaries can be nested within each other, so that, for instance\n",
    "\n",
    "    {\"key1\":[1.0, 2.0, {\"key2\":\"test\"}], \"key3\":false}\n",
    "\n",
    "would be a valid JSON object.\n",
    "\n",
    "Let's look at the full JSON returned by the GitHub API above:"
   ]
  },
  {
   "cell_type": "code",
   "execution_count": 9,
   "metadata": {},
   "outputs": [
    {
     "name": "stdout",
     "output_type": "stream",
     "text": [
      "b'{\"message\":\"Bad credentials\",\"documentation_url\":\"https://developer.github.com/v3\"}'\n"
     ]
    }
   ],
   "source": [
    "print(response.content)"
   ]
  },
  {
   "cell_type": "code",
   "execution_count": 10,
   "metadata": {},
   "outputs": [
    {
     "name": "stdout",
     "output_type": "stream",
     "text": [
      "{'message': 'Bad credentials', 'documentation_url': 'https://developer.github.com/v3'}\n"
     ]
    }
   ],
   "source": [
    "import json\n",
    "print(json.loads(response.content))"
   ]
  },
  {
   "cell_type": "code",
   "execution_count": 11,
   "metadata": {},
   "outputs": [
    {
     "data": {
      "text/plain": [
       "'{\"a\": [1, 2, 3, {\"b\": 2.1}], \"c\": 4}'"
      ]
     },
     "execution_count": 11,
     "metadata": {},
     "output_type": "execute_result"
    }
   ],
   "source": [
    "data = {\"a\":[1,2,3,{\"b\":2.1}], 'c':4}\n",
    "json.dumps(data)"
   ]
  },
  {
   "cell_type": "code",
   "execution_count": 12,
   "metadata": {},
   "outputs": [
    {
     "name": "stderr",
     "output_type": "stream",
     "text": [
      "TypeError: Object of type 'Response' is not JSON serializable\n"
     ]
    }
   ],
   "source": [
    "json.dumps(response)"
   ]
  },
  {
   "cell_type": "markdown",
   "metadata": {},
   "source": [
    "### XML/HTML\n",
    "\n",
    "Last, another format you will likely encoder are XML/HTML documents, though my assessment XML seems to be loosing out to JSON as a generic format for APIs and data files, at least for cases where JSON will suffice, mainly because JSON is substantially easier to parse.  XML files contain hierarchical content delineated by tags, like the following:"
   ]
  },
  {
   "cell_type": "raw",
   "metadata": {},
   "source": [
    "<tag attribute=\"value\">\n",
    "    <subtag>\n",
    "        Some content for the subtag\n",
    "    </subtag>\n",
    "    <openclosetag attribute=\"value2\"/>\n",
    "</tag>"
   ]
  },
  {
   "cell_type": "code",
   "execution_count": 13,
   "metadata": {},
   "outputs": [
    {
     "name": "stdout",
     "output_type": "stream",
     "text": [
      "<?xml version=\"1.0\" encoding=\"utf-8\"?>\n",
      "<tag attribute=\"value\">\n",
      "<subtag>\n",
      "        Some content for the subtag\n",
      "    </subtag>\n",
      "<openclosetag attribute=\"value2\"/>\n",
      "<subtag>\n",
      "        Second one\n",
      "    </subtag>\n",
      "</tag> \n",
      "\n",
      "<subtag>\n",
      "        Some content for the subtag\n",
      "    </subtag> \n",
      "\n",
      "{'attribute': 'value2'}\n"
     ]
    }
   ],
   "source": [
    "from bs4 import BeautifulSoup\n",
    "\n",
    "root = BeautifulSoup(\"\"\"\n",
    "<tag attribute=\"value\">\n",
    "    <subtag>\n",
    "        Some content for the subtag\n",
    "    </subtag>\n",
    "    <openclosetag attribute=\"value2\"/>\n",
    "    <subtag>\n",
    "        Second one\n",
    "    </subtag>\n",
    "</tag>\n",
    "\"\"\", \"lxml-xml\")\n",
    "\n",
    "print(root, \"\\n\")\n",
    "print(root.tag.subtag, \"\\n\")\n",
    "print(root.tag.openclosetag.attrs)"
   ]
  },
  {
   "cell_type": "code",
   "execution_count": 14,
   "metadata": {},
   "outputs": [
    {
     "name": "stdout",
     "output_type": "stream",
     "text": [
      "[<subtag>\n",
      "        Some content for the subtag\n",
      "    </subtag>, <subtag>\n",
      "        Second one\n",
      "    </subtag>]\n"
     ]
    }
   ],
   "source": [
    "print(root.tag.find_all(\"subtag\"))"
   ]
  },
  {
   "cell_type": "markdown",
   "metadata": {},
   "source": [
    "The nice thing about the `find_all` function is that you can call it at previous levels in the tree, and it will recurse down the whole document.  So we could have just as easily done."
   ]
  }
 ],
 "metadata": {
  "kernelspec": {
   "display_name": "Python 3",
   "language": "python",
   "name": "python3"
  },
  "language_info": {
   "codemirror_mode": {
    "name": "ipython",
    "version": 3
   },
   "file_extension": ".py",
   "mimetype": "text/x-python",
   "name": "python",
   "nbconvert_exporter": "python",
   "pygments_lexer": "ipython3",
   "version": "3.6.5"
  }
 },
 "nbformat": 4,
 "nbformat_minor": 2
}
