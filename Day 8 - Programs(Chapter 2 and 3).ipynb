{
 "cells": [
  {
   "cell_type": "markdown",
   "metadata": {},
   "source": [
    "## Chapter 2 : Continuation...."
   ]
  },
  {
   "cell_type": "markdown",
   "metadata": {},
   "source": [
    "## (j) Straight Line"
   ]
  },
  {
   "cell_type": "code",
   "execution_count": 2,
   "metadata": {},
   "outputs": [
    {
     "name": "stdout",
     "output_type": "stream",
     "text": [
      "Enter the x axis of 1st point: 1\n",
      "Enter the y axis of 1st point: 1\n",
      "Enter the x axis of 2nd point: 1\n",
      "Enter the y axis of 2nd point: 4\n",
      "Enter the x axis of 3rd point: 1\n",
      "Enter the y axis of 3rd point: 5\n",
      "The points lie on the same line.\n"
     ]
    }
   ],
   "source": [
    "x1=int(input('Enter the x axis of 1st point: '))\n",
    "y1=int(input('Enter the y axis of 1st point: '))\n",
    "x2=int(input('Enter the x axis of 2nd point: '))\n",
    "y2=int(input('Enter the y axis of 2nd point: '))\n",
    "x3=int(input('Enter the x axis of 3rd point: '))\n",
    "y3=int(input('Enter the y axis of 3rd point: '))\n",
    "a=x1*(y2-y3)+x2*(y3-y1)+x3*(y1-y2)\n",
    "if(a==0):\n",
    "    print('The points lie on the same line.')\n",
    "else:\n",
    "    print('The points does not lie on the same line.')\n"
   ]
  },
  {
   "cell_type": "markdown",
   "metadata": {},
   "source": [
    "## (k) Circle problem"
   ]
  },
  {
   "cell_type": "code",
   "execution_count": 1,
   "metadata": {},
   "outputs": [
    {
     "name": "stdout",
     "output_type": "stream",
     "text": [
      "Enter the x-axis of the center of circle : 1\n",
      "Enter the y-axis of the center of circle : 1\n",
      "Enter the radius of the circle: 2\n",
      "Enter the x-axis of the point you want to determine the location: 0\n",
      "Enter the y-axis of the point you want to determine the location: 1\n",
      "Inside the circle\n"
     ]
    }
   ],
   "source": [
    "#to check whether the point is inside the circle ,on the circle or outside the circle\n",
    "x1=int(input('Enter the x-axis of the center of circle : '))\n",
    "y1=int(input('Enter the y-axis of the center of circle : '))\n",
    "r=int(input('Enter the radius of the circle: '))\n",
    "x2=int(input('Enter the x-axis of the point you want to determine the location: '))\n",
    "y2=int(input('Enter the y-axis of the point you want to determine the location: '))\n",
    "if ((x2-x1)**2+(y2-y1)**2)<=r**2:\n",
    "    print(\"Inside the circle\")\n",
    "elif ((x2-x1)**2+(y2-y1)**2)==r**2:\n",
    "    print(\"On the circle\")\n",
    "else:\n",
    "    print(\"Outside the circle\")"
   ]
  },
  {
   "cell_type": "markdown",
   "metadata": {},
   "source": [
    "## (l) Location of point"
   ]
  },
  {
   "cell_type": "code",
   "execution_count": 2,
   "metadata": {},
   "outputs": [
    {
     "name": "stdout",
     "output_type": "stream",
     "text": [
      "Enter the x axis of the point: 12\n",
      "Enter the y axis of the point: 0\n",
      "The point lies on x-axis.\n"
     ]
    }
   ],
   "source": [
    "x=int(input('Enter the x axis of the point: '))\n",
    "y=int(input('Enter the y axis of the point: '))\n",
    "if(x==0):\n",
    "    print('The point lies on y-axis.')\n",
    "elif(y==0):\n",
    "    print('The point lies on x-axis.')\n",
    "elif(x==y):\n",
    "    print('The point lies on origin')"
   ]
  },
  {
   "cell_type": "markdown",
   "metadata": {},
   "source": [
    "## [F]: (a) Leap year"
   ]
  },
  {
   "cell_type": "code",
   "execution_count": 5,
   "metadata": {},
   "outputs": [
    {
     "name": "stdout",
     "output_type": "stream",
     "text": [
      "Enter the year: 2019\n",
      "Not leap year\n"
     ]
    }
   ],
   "source": [
    "year=int(input('Enter the year: '))\n",
    "if (year%4==0):\n",
    "    print('Leap Year')\n",
    "else:\n",
    "    print('Not leap year')"
   ]
  },
  {
   "cell_type": "markdown",
   "metadata": {},
   "source": [
    "## (b) Character determination"
   ]
  },
  {
   "cell_type": "code",
   "execution_count": 8,
   "metadata": {},
   "outputs": [
    {
     "name": "stdout",
     "output_type": "stream",
     "text": [
      "Enter any character: _\n",
      "Special symbols\n"
     ]
    }
   ],
   "source": [
    "a=input('Enter any character: ')\n",
    "if (a>='65') and (a<='90'):\n",
    "    print('Upper case letter')\n",
    "elif (a>='97' and a<='122'):\n",
    "    print('Lower case letters')\n",
    "elif(a>='48' and a<='57'):\n",
    "    print('Digit')\n",
    "else:\n",
    "    print('Special symbols')"
   ]
  },
  {
   "cell_type": "markdown",
   "metadata": {},
   "source": [
    "## (c) Premium calculation"
   ]
  },
  {
   "cell_type": "code",
   "execution_count": 11,
   "metadata": {},
   "outputs": [
    {
     "name": "stdout",
     "output_type": "stream",
     "text": [
      "Is the person healthy(Y/N)? : N\n",
      "What is your age? : 30\n",
      "Where does he live(City/Village)?: Village\n",
      "What is your gender(F/M)? : F\n",
      "The person is not insured.\n"
     ]
    }
   ],
   "source": [
    "health=input('Is the person healthy(Y/N)? : ')\n",
    "age=int(input('What is your age? : '))\n",
    "home=input('Where does he live(City/Village)?: ')\n",
    "gender=input('What is your gender(F/M)? : ')\n",
    "if(health=='Y'):\n",
    "    if(age>=25 and age<=35):\n",
    "        if(home=='City'):\n",
    "            if (gender=='M'):\n",
    "                print('The premium is Rs. 4 per thousand .')\n",
    "                print('Policy amount cannot exceed Rs. 2 Lakh')\n",
    "            else:\n",
    "                print('The premium is Rs. 3 per thousand .')\n",
    "                print('Policy amount cannot exceed Rs. 1 Lakh')\n",
    "elif(health=='Y'):\n",
    "    if(age>=25 and age<=35):\n",
    "        if(home=='Village'):\n",
    "            if (gender=='M'):\n",
    "                print('The premium is Rs. 6 per thousand .')\n",
    "                print('Policy amount cannot exceed Rs. 10000')\n",
    "else:\n",
    "    print('The person is not insured.')\n",
    "        "
   ]
  },
  {
   "cell_type": "markdown",
   "metadata": {},
   "source": [
    "## (d) Steel Grade"
   ]
  },
  {
   "cell_type": "code",
   "execution_count": 13,
   "metadata": {},
   "outputs": [
    {
     "name": "stdout",
     "output_type": "stream",
     "text": [
      "Enter the hardness: 45\n",
      "Enter the carbon content: 0.5\n",
      "Enter the tensile strength: 5601\n",
      "Grade = 8\n"
     ]
    }
   ],
   "source": [
    "h=float(input('Enter the hardness: '))\n",
    "cc=float(input('Enter the carbon content: '))\n",
    "ts=int(input('Enter the tensile strength: '))\n",
    "if(h>50 and cc<0.7 and ts>5600):\n",
    "    print('Grade = 10')\n",
    "elif(h>50 and cc<0.7 and ts<=5600):\n",
    "    print (\"Grade = 9\")\n",
    "elif(h<=50 and cc<0.7 and ts>5600):\n",
    "    print (\"Grade = 8\")\n",
    "elif(h>50 and cc>=0.7 and ts>5600):\n",
    "    print (\"Grade = 7\")\n",
    "elif (h>50 or cc<0.7 or ts>5600):\n",
    "    print(\"Grade = 6\")\n",
    "else:\n",
    "    print(\"Grade = 5\")"
   ]
  },
  {
   "cell_type": "markdown",
   "metadata": {},
   "source": [
    "## (e) Book Fine"
   ]
  },
  {
   "cell_type": "code",
   "execution_count": 15,
   "metadata": {},
   "outputs": [
    {
     "name": "stdout",
     "output_type": "stream",
     "text": [
      "The number of days the book rerturned late are = 35\n",
      "Membership cancelled\n"
     ]
    }
   ],
   "source": [
    "late=int(input('The number of days the book rerturned late are = '))\n",
    "if(late<=5):\n",
    "    print('Fine = 50 paise')\n",
    "elif(late>5 and late<=10):\n",
    "    print(\"Fine = Rs. 1\")\n",
    "elif(late>10 and late<30):\n",
    "    print('Fine = Rs. 5')\n",
    "elif(late==0):\n",
    "    print('No fine')\n",
    "elif(late>30):\n",
    "    print('Membership cancelled')   "
   ]
  },
  {
   "cell_type": "markdown",
   "metadata": {},
   "source": [
    "## (f) Valid Triangle"
   ]
  },
  {
   "cell_type": "code",
   "execution_count": 16,
   "metadata": {},
   "outputs": [
    {
     "name": "stdout",
     "output_type": "stream",
     "text": [
      "Enter the 1st side of triangle:23\n",
      "Enter the 2nd side of triangle:34\n",
      "Enter the 3rd side of triangle:90\n",
      "Valid Triangle\n"
     ]
    }
   ],
   "source": [
    "a=int(input('Enter the 1st side of triangle:'))\n",
    "b=int(input('Enter the 2nd side of triangle:'))\n",
    "c=int(input('Enter the 3rd side of triangle:'))\n",
    "if(a+b>c or b+c>a or c+a>b):\n",
    "    print('Valid Triangle')\n",
    "else:\n",
    "    print('Invalid Triangle')"
   ]
  },
  {
   "cell_type": "markdown",
   "metadata": {},
   "source": [
    "## (g) Type of triangle"
   ]
  },
  {
   "cell_type": "code",
   "execution_count": 17,
   "metadata": {},
   "outputs": [
    {
     "name": "stdout",
     "output_type": "stream",
     "text": [
      "Enter the 1st side of triangle:23\n",
      "Enter the 2nd side of triangle:34\n",
      "Enter the 3rd side of triangle:45\n",
      "Scalene Triangle\n"
     ]
    }
   ],
   "source": [
    "a=int(input('Enter the 1st side of triangle:'))\n",
    "b=int(input('Enter the 2nd side of triangle:'))\n",
    "c=int(input('Enter the 3rd side of triangle:'))\n",
    "if (a==b==c):\n",
    "    print('Equilateral Triangle')\n",
    "elif(a==b or a==c or b==c):\n",
    "    print('Isoscelus Triangle')\n",
    "elif(a**2 + b**2==c**2 or a**2+c**2==b**2 or b**2 +c**2==a**2):\n",
    "    print('Right angled triangle')\n",
    "else:\n",
    "    print('Scalene Triangle')"
   ]
  },
  {
   "cell_type": "markdown",
   "metadata": {},
   "source": [
    "## (h) Worker Efficiency"
   ]
  },
  {
   "cell_type": "code",
   "execution_count": 2,
   "metadata": {},
   "outputs": [
    {
     "name": "stdout",
     "output_type": "stream",
     "text": [
      "Number of hours workers can complete the work =4.5\n",
      "Given training to increase the speed.\n"
     ]
    }
   ],
   "source": [
    "hours=float(input('Number of hours workers can complete the work ='))\n",
    "if(hours <=3):\n",
    "    print('Highly efficient worker')\n",
    "elif(hours<=4):\n",
    "    print('Ordered to improve speed')\n",
    "elif(hours<=5):\n",
    "    print('Given training to increase the speed.')\n",
    "else:\n",
    "    print('Not efficient !! Need to leave the company.')"
   ]
  },
  {
   "cell_type": "markdown",
   "metadata": {},
   "source": [
    "## (i) Student Qualification"
   ]
  },
  {
   "cell_type": "code",
   "execution_count": 3,
   "metadata": {},
   "outputs": [
    {
     "name": "stdout",
     "output_type": "stream",
     "text": [
      "Enter the percentage in subject A = 66\n",
      "Enter the percentage in subject B = 32\n",
      "Can reappear in B to qualify.\n"
     ]
    }
   ],
   "source": [
    "A=int(input('Enter the percentage in subject A = '))\n",
    "B=int(input('Enter the percentage in subject B = '))\n",
    "if(A>=55 and B>=45):\n",
    "    print('Qualified for degree')\n",
    "elif(A>=45 and B>=55):\n",
    "    print('Passed!!')\n",
    "elif(B<45 and A>=65):\n",
    "    print('Can reappear in B to qualify.')\n",
    "else:\n",
    "    print('Failed')"
   ]
  },
  {
   "cell_type": "markdown",
   "metadata": {},
   "source": [
    "## (j) Company Orders"
   ]
  },
  {
   "cell_type": "code",
   "execution_count": 4,
   "metadata": {},
   "outputs": [
    {
     "name": "stdout",
     "output_type": "stream",
     "text": [
      "Is the credit OK(Y/N)?: Y\n",
      "Is the customer order less than that of stock(Y/N)?: Y\n",
      "Supply the requirement\n"
     ]
    }
   ],
   "source": [
    "credit=input('Is the credit OK(Y/N)?: ')\n",
    "available=input('Is the customer order less than that of stock(Y/N)?: ')\n",
    "if (credit=='Y' and available=='Y'):\n",
    "    print('Supply the requirement')\n",
    "elif(credit=='N'):\n",
    "    print('Send intimation to customer')\n",
    "elif(credit=='Y' and available=='N'):\n",
    "    print('Sorry!! Out of stock. The data balanced will be shipped.')"
   ]
  },
  {
   "cell_type": "markdown",
   "metadata": {},
   "source": [
    "# Chapter 3: "
   ]
  },
  {
   "cell_type": "markdown",
   "metadata": {},
   "source": [
    "## (a) Overtime pay"
   ]
  },
  {
   "cell_type": "code",
   "execution_count": 1,
   "metadata": {},
   "outputs": [
    {
     "name": "stdout",
     "output_type": "stream",
     "text": [
      "Enter the number of hours worked total: 45\n",
      "The employee is paid for overtime:  60\n",
      "Enter the number of hours worked total: 34\n",
      "The employee is paid for overtime:  -72\n",
      "Enter the number of hours worked total: 67\n",
      "The employee is paid for overtime:  324\n",
      "Enter the number of hours worked total: 48\n",
      "The employee is paid for overtime:  96\n",
      "Enter the number of hours worked total: 90\n",
      "The employee is paid for overtime:  600\n",
      "Enter the number of hours worked total: 44\n",
      "The employee is paid for overtime:  48\n",
      "Enter the number of hours worked total: 48\n",
      "The employee is paid for overtime:  96\n",
      "Enter the number of hours worked total: 49\n",
      "The employee is paid for overtime:  108\n",
      "Enter the number of hours worked total: 68\n",
      "The employee is paid for overtime:  336\n"
     ]
    }
   ],
   "source": [
    "for i  in range(1,10):\n",
    "    hours=int(input('Enter the number of hours worked total: '))\n",
    "    time=hours-40\n",
    "    paid=time*12\n",
    "    print('The employee is paid for overtime: ',paid)"
   ]
  },
  {
   "cell_type": "markdown",
   "metadata": {},
   "source": [
    "## (b) Factorial "
   ]
  },
  {
   "cell_type": "code",
   "execution_count": 3,
   "metadata": {},
   "outputs": [
    {
     "name": "stdout",
     "output_type": "stream",
     "text": [
      "Enter any number: 5\n",
      "Factorial is  120\n"
     ]
    }
   ],
   "source": [
    "a=int(input('Enter any number: '))\n",
    "fact=1\n",
    "while a>0:\n",
    "    fact=fact*a\n",
    "    a-=1\n",
    "print('Factorial is ',fact)"
   ]
  },
  {
   "cell_type": "markdown",
   "metadata": {},
   "source": [
    "## (c) Raise to power"
   ]
  },
  {
   "cell_type": "code",
   "execution_count": 4,
   "metadata": {},
   "outputs": [
    {
     "name": "stdout",
     "output_type": "stream",
     "text": [
      "Enter the first number = 2\n",
      "Enter the second number = 3\n",
      "8\n"
     ]
    }
   ],
   "source": [
    "a=int(input('Enter the first number = '))\n",
    "b=int(input('Enter the second number = '))\n",
    "r=a**b\n",
    "print(r)"
   ]
  },
  {
   "cell_type": "markdown",
   "metadata": {},
   "source": [
    "## (d) ASCII Values"
   ]
  },
  {
   "cell_type": "code",
   "execution_count": 7,
   "metadata": {},
   "outputs": [
    {
     "name": "stdout",
     "output_type": "stream",
     "text": [
      "ASCII Codes along with the characters\n",
      "255         ÿ\n",
      "254         þ\n",
      "253         ý\n",
      "252         ü\n",
      "251         û\n",
      "250         ú\n",
      "249         ù\n",
      "248         ø\n",
      "247         ÷\n",
      "246         ö\n",
      "245         õ\n",
      "244         ô\n",
      "243         ó\n",
      "242         ò\n",
      "241         ñ\n",
      "240         ð\n",
      "239         ï\n",
      "238         î\n",
      "237         í\n",
      "236         ì\n",
      "235         ë\n",
      "234         ê\n",
      "233         é\n",
      "232         è\n",
      "231         ç\n",
      "230         æ\n",
      "229         å\n",
      "228         ä\n",
      "227         ã\n",
      "226         â\n",
      "225         á\n",
      "224         à\n",
      "223         ß\n",
      "222         Þ\n",
      "221         Ý\n",
      "220         Ü\n",
      "219         Û\n",
      "218         Ú\n",
      "217         Ù\n",
      "216         Ø\n",
      "215         ×\n",
      "214         Ö\n",
      "213         Õ\n",
      "212         Ô\n",
      "211         Ó\n",
      "210         Ò\n",
      "209         Ñ\n",
      "208         Ð\n",
      "207         Ï\n",
      "206         Î\n",
      "205         Í\n",
      "204         Ì\n",
      "203         Ë\n",
      "202         Ê\n",
      "201         É\n",
      "200         È\n",
      "199         Ç\n",
      "198         Æ\n",
      "197         Å\n",
      "196         Ä\n",
      "195         Ã\n",
      "194         Â\n",
      "193         Á\n",
      "192         À\n",
      "191         ¿\n",
      "190         ¾\n",
      "189         ½\n",
      "188         ¼\n",
      "187         »\n",
      "186         º\n",
      "185         ¹\n",
      "184         ¸\n",
      "183         ·\n",
      "182         ¶\n",
      "181         µ\n",
      "180         ´\n",
      "179         ³\n",
      "178         ²\n",
      "177         ±\n",
      "176         °\n",
      "175         ¯\n",
      "174         ®\n",
      "173         ­\n",
      "172         ¬\n",
      "171         «\n",
      "170         ª\n",
      "169         ©\n",
      "168         ¨\n",
      "167         §\n",
      "166         ¦\n",
      "165         ¥\n",
      "164         ¤\n",
      "163         £\n",
      "162         ¢\n",
      "161         ¡\n",
      "160          \n",
      "159         \n",
      "158         \n",
      "157         \n",
      "156         \n",
      "155         \n",
      "154         \n",
      "153         \n",
      "152         \n",
      "151         \n",
      "150         \n",
      "149         \n",
      "148         \n",
      "147         \n",
      "146         \n",
      "145         \n",
      "144         \n",
      "143         \n",
      "142         \n",
      "141         \n",
      "140         \n",
      "139         \n",
      "138         \n",
      "137         \n",
      "136         \n",
      "135         \n",
      "134         \n",
      "133         ",
      "\n",
      "132         \n",
      "131         \n",
      "130         \n",
      "129         \n",
      "128         \n",
      "127         \n",
      "126         ~\n",
      "125         }\n",
      "124         |\n",
      "123         {\n",
      "122         z\n",
      "121         y\n",
      "120         x\n",
      "119         w\n",
      "118         v\n",
      "117         u\n",
      "116         t\n",
      "115         s\n",
      "114         r\n",
      "113         q\n",
      "112         p\n",
      "111         o\n",
      "110         n\n",
      "109         m\n",
      "108         l\n",
      "107         k\n",
      "106         j\n",
      "105         i\n",
      "104         h\n",
      "103         g\n",
      "102         f\n",
      "101         e\n",
      "100         d\n",
      "99         c\n",
      "98         b\n",
      "97         a\n",
      "96         `\n",
      "95         _\n",
      "94         ^\n",
      "93         ]\n",
      "92         \\\n",
      "91         [\n",
      "90         Z\n",
      "89         Y\n",
      "88         X\n",
      "87         W\n",
      "86         V\n",
      "85         U\n",
      "84         T\n",
      "83         S\n",
      "82         R\n",
      "81         Q\n",
      "80         P\n",
      "79         O\n",
      "78         N\n",
      "77         M\n",
      "76         L\n",
      "75         K\n",
      "74         J\n",
      "73         I\n",
      "72         H\n",
      "71         G\n",
      "70         F\n",
      "69         E\n",
      "68         D\n",
      "67         C\n",
      "66         B\n",
      "65         A\n",
      "64         @\n",
      "63         ?\n",
      "62         >\n",
      "61         =\n",
      "60         <\n",
      "59         ;\n",
      "58         :\n",
      "57         9\n",
      "56         8\n",
      "55         7\n",
      "54         6\n",
      "53         5\n",
      "52         4\n",
      "51         3\n",
      "50         2\n",
      "49         1\n",
      "48         0\n",
      "47         /\n",
      "46         .\n",
      "45         -\n",
      "44         ,\n",
      "43         +\n",
      "42         *\n",
      "41         )\n",
      "40         (\n",
      "39         '\n",
      "38         &\n",
      "37         %\n",
      "36         $\n",
      "35         #\n",
      "34         \"\n",
      "33         !\n",
      "32          \n",
      "31         \u001f\n",
      "30         \u001e",
      "\n",
      "29         \u001d",
      "\n",
      "28         \u001c",
      "\n",
      "27         \u001b\n",
      "26         \u001a\n",
      "25         \u0019\n",
      "24         \u0018\n",
      "23         \u0017\n",
      "22         \u0016\n",
      "21         \u0015\n",
      "20         \u0014\n",
      "19         \u0013\n",
      "18         \u0012\n",
      "17         \u0011\n",
      "16         \u0010\n",
      "15         \u000f\n",
      "14         \u000e\n",
      "13         \r\n",
      "12         \f",
      "\n",
      "11         \u000b",
      "\n",
      "10         \n",
      "\n",
      "9         \t\n",
      "8         \b\n",
      "7         \u0007\n",
      "6         \u0006\n",
      "5         \u0005\n",
      "4         \u0004\n",
      "3         \u0003\n",
      "2         \u0002\n",
      "1         \u0001\n"
     ]
    }
   ],
   "source": [
    "a=255\n",
    "print('ASCII Codes along with the characters')\n",
    "while a>0:\n",
    "    print (a,'       ',chr(a))\n",
    "    a-=1"
   ]
  },
  {
   "cell_type": "markdown",
   "metadata": {},
   "source": [
    "## (e) Armstrong Numbers"
   ]
  },
  {
   "cell_type": "code",
   "execution_count": 16,
   "metadata": {},
   "outputs": [
    {
     "name": "stdout",
     "output_type": "stream",
     "text": [
      "1\n",
      "25\n",
      "36\n",
      "125\n",
      "216\n"
     ]
    }
   ],
   "source": [
    "for num in range(1, 500 + 1):\n",
    "    order = len(str(num))\n",
    "    sum = 0\n",
    "    temp = num\n",
    "    while temp > 10:\n",
    "        digit = temp % 10\n",
    "        sum += digit ** order\n",
    "        temp //= 10\n",
    "        if num == sum:\n",
    "            print(num)\n",
    "    else:\n",
    "        if(temp**3==num):\n",
    "            print(num) "
   ]
  },
  {
   "cell_type": "markdown",
   "metadata": {},
   "source": [
    "## (f) Matchstick Game"
   ]
  },
  {
   "cell_type": "code",
   "execution_count": 17,
   "metadata": {},
   "outputs": [
    {
     "name": "stdout",
     "output_type": "stream",
     "text": [
      "You have to pick  3  matchsticks.\n",
      "Computer picked  3  matchsticks.\n",
      "You have to pick  4  matchsticks.\n",
      "Computer picked  1  matchsticks.\n",
      "You have to pick  4  matchsticks.\n",
      "Computer picked  3  matchsticks.\n",
      "You have to pick  1  matchsticks.\n",
      "Computer picked  3  matchsticks.\n",
      "You have to pick  3  matchsticks.\n",
      "Computer picked  4  matchsticks.\n",
      "You have to pick  3  matchsticks.\n",
      "Computer picked  3  matchsticks.\n",
      "You have to pick  4  matchsticks.\n",
      "Computer picked  3  matchsticks.\n",
      "You have to pick  2  matchsticks.\n",
      "Computer picked  1  matchsticks.\n",
      "You have to pick  3  matchsticks.\n",
      "Computer picked  4  matchsticks.\n",
      "You have to pick  2  matchsticks.\n",
      "Computer picked  3  matchsticks.\n",
      "You have to pick  3  matchsticks.\n",
      "Computer picked  1  matchsticks.\n",
      "You have to pick  1  matchsticks.\n",
      "Computer picked  4  matchsticks.\n",
      "You have to pick  4  matchsticks.\n",
      "Computer picked  4  matchsticks.\n",
      "You have to pick  3  matchsticks.\n",
      "Computer picked  1  matchsticks.\n",
      "You have to pick  3  matchsticks.\n",
      "Computer picked  1  matchsticks.\n",
      "You have to pick  2  matchsticks.\n",
      "Computer picked  2  matchsticks.\n",
      "You have to pick  4  matchsticks.\n",
      "Computer picked  4  matchsticks.\n",
      "You have to pick  2  matchsticks.\n",
      "Computer picked  1  matchsticks.\n",
      "You have to pick  3  matchsticks.\n",
      "Computer picked  4  matchsticks.\n",
      "You have to pick  3  matchsticks.\n",
      "Computer picked  2  matchsticks.\n",
      "You have to pick  1  matchsticks.\n",
      "Computer picked  2  matchsticks.\n"
     ]
    }
   ],
   "source": [
    "import random\n",
    "for i in range(1,22):\n",
    "    user_pick=random.randint(1,4)\n",
    "    print('You have to pick ',user_pick,' matchsticks.')\n",
    "    j=21-user_pick\n",
    "     if(j<22):\n",
    "            computer_pick=random.randint(1,4)\n",
    "            print('Computer picked ',computer_pick,' matchsticks.')"
   ]
  },
  {
   "cell_type": "code",
   "execution_count": null,
   "metadata": {},
   "outputs": [],
   "source": []
  }
 ],
 "metadata": {
  "kernelspec": {
   "display_name": "Python 3",
   "language": "python",
   "name": "python3"
  },
  "language_info": {
   "codemirror_mode": {
    "name": "ipython",
    "version": 3
   },
   "file_extension": ".py",
   "mimetype": "text/x-python",
   "name": "python",
   "nbconvert_exporter": "python",
   "pygments_lexer": "ipython3",
   "version": "3.6.5"
  }
 },
 "nbformat": 4,
 "nbformat_minor": 2
}
