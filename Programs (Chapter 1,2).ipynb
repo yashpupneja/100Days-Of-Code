{
 "cells": [
  {
   "cell_type": "code",
   "execution_count": 1,
   "metadata": {},
   "outputs": [],
   "source": [
    "import random"
   ]
  },
  {
   "cell_type": "code",
   "execution_count": 2,
   "metadata": {},
   "outputs": [
    {
     "name": "stdout",
     "output_type": "stream",
     "text": [
      "1=stone , 2=paper , 3=scissor\n",
      " Input 1:  1\n",
      "Enter your choice considering the above:2\n",
      "You won\n"
     ]
    }
   ],
   "source": [
    "#stone paper scissor game\n",
    "print(\"1=stone , 2=paper , 3=scissor\")\n",
    "user1=random.randint(1,3)\n",
    "print (\" Input 1: \",user1)\n",
    "user2=int(input('Enter your choice considering the above:'))\n",
    "if (user1 == 1) and (user2 == 2):\n",
    "          print (\"You won\")\n",
    "elif (user1==2) and (user2==3):\n",
    "          print(\"You won\")\n",
    "elif (user1==3) and (user2==1):\n",
    "          print(\"You won\")\n",
    "elif user1==user2:\n",
    "          print(\"Tie\")\n",
    "else:\n",
    "          print(\"You lost\")"
   ]
  },
  {
   "cell_type": "markdown",
   "metadata": {},
   "source": [
    "# Chapter 1: Getting Started"
   ]
  },
  {
   "cell_type": "markdown",
   "metadata": {},
   "source": [
    "## (a) Gross Salary problem"
   ]
  },
  {
   "cell_type": "code",
   "execution_count": 3,
   "metadata": {},
   "outputs": [
    {
     "name": "stdout",
     "output_type": "stream",
     "text": [
      "Enter basic salary: 2300\n",
      "Gross Salary:  920.0\n"
     ]
    }
   ],
   "source": [
    "bs=int(input('Enter basic salary: ')) #basic Salary\n",
    "da=0.4*bs  #dearness allowance\n",
    "hr=0.2*bs #house rent allowance\n",
    "gs=bs-da-hr #gross salary\n",
    "print('Gross Salary: ',gs)"
   ]
  },
  {
   "cell_type": "markdown",
   "metadata": {},
   "source": [
    "## (b) Distance Conversion"
   ]
  },
  {
   "cell_type": "code",
   "execution_count": 4,
   "metadata": {},
   "outputs": [
    {
     "name": "stdout",
     "output_type": "stream",
     "text": [
      "Enter the distance(in kms):  234\n",
      "Converting distance into: \n",
      "1)  meters:  234000.0\n",
      "2)  feet:  767707.2000000001\n",
      "3)  inches:  9212603.4\n",
      "4)  centimeters:  23400000.0\n"
     ]
    }
   ],
   "source": [
    "d=float(input('Enter the distance(in kms):  '))\n",
    "print('Converting distance into: ')\n",
    "print('1)  meters: ',d*1000)\n",
    "print('2)  feet: ',d*3280.8)\n",
    "print('3)  inches: ',d*39370.1)\n",
    "print('4)  centimeters: ',d*100000)"
   ]
  },
  {
   "cell_type": "markdown",
   "metadata": {},
   "source": [
    "## (c) Aggregrate marks of student"
   ]
  },
  {
   "cell_type": "code",
   "execution_count": 5,
   "metadata": {},
   "outputs": [
    {
     "name": "stdout",
     "output_type": "stream",
     "text": [
      "Enter the marks(out of 100) in 1st subject: 89\n",
      "Enter the marks(out of 100) in 2st subject: 90\n",
      "Enter the marks(out of 100) in 3rd subject: 78\n",
      "Enter the marks(out of 100) in 4th subject: 67\n",
      "Enter the marks(out of 100) in 5th subject: 77\n",
      "Aggregate =  401\n",
      "Percentage =  80\n"
     ]
    }
   ],
   "source": [
    "sub1=int(input('Enter the marks(out of 100) in 1st subject: '))\n",
    "sub2=int(input('Enter the marks(out of 100) in 2st subject: '))\n",
    "sub3=int(input('Enter the marks(out of 100) in 3rd subject: '))\n",
    "sub4=int(input('Enter the marks(out of 100) in 4th subject: '))\n",
    "sub5=int(input('Enter the marks(out of 100) in 5th subject: '))\n",
    "aggregate=(sub1+sub2+sub3+sub4+sub5)\n",
    "print(\"Aggregate = \",aggregate)\n",
    "percentage=aggregate/5\n",
    "print('Percentage = ',int(percentage))"
   ]
  },
  {
   "cell_type": "markdown",
   "metadata": {},
   "source": [
    "## (d) Temperature Conversion"
   ]
  },
  {
   "cell_type": "code",
   "execution_count": 6,
   "metadata": {},
   "outputs": [
    {
     "name": "stdout",
     "output_type": "stream",
     "text": [
      "Enter the temperature(in Fahrenheit): 32\n",
      "Temperature in Celsius is:  0.0\n"
     ]
    }
   ],
   "source": [
    "f=float(input('Enter the temperature(in Fahrenheit): '))\n",
    "c= (f-32)*(5/9)\n",
    "print('Temperature in Celsius is: ',c)"
   ]
  },
  {
   "cell_type": "markdown",
   "metadata": {},
   "source": [
    "## (e) Area and perimeter"
   ]
  },
  {
   "cell_type": "code",
   "execution_count": 7,
   "metadata": {},
   "outputs": [
    {
     "name": "stdout",
     "output_type": "stream",
     "text": [
      " RECTANGLE \n",
      "Enter the length of the rectangle: 12\n",
      "Enter the breadth of the rectangle: 13\n",
      "Area =  156\n",
      "Perimeter =  50\n",
      " CIRCLE \n",
      "Enter the radius: 2.2\n",
      "Area =  15.197600000000003\n",
      "Circumfrance=  13.816000000000003\n"
     ]
    }
   ],
   "source": [
    "print(\" RECTANGLE \")\n",
    "length=int(input('Enter the length of the rectangle: '))\n",
    "breadth=int(input('Enter the breadth of the rectangle: '))\n",
    "area = length*breadth\n",
    "perimeter = 2*(length+breadth)\n",
    "print(\"Area = \", area)\n",
    "print(\"Perimeter = \",perimeter)\n",
    "print(\" CIRCLE \")\n",
    "radius=float(input('Enter the radius: '))\n",
    "area=3.14*radius*radius\n",
    "print(\"Area = \",area)\n",
    "circum=2*3.14*radius\n",
    "print(\"Circumfrance= \",circum)"
   ]
  },
  {
   "cell_type": "markdown",
   "metadata": {},
   "source": [
    "## (f) Swapping"
   ]
  },
  {
   "cell_type": "code",
   "execution_count": 8,
   "metadata": {},
   "outputs": [
    {
     "name": "stdout",
     "output_type": "stream",
     "text": [
      "BEFORE SWAPPING\n",
      "Enter the number at location C: 12\n",
      "Enter the number at location D: 33\n",
      "AFTER SWAPPING\n",
      "value at Location C =  33\n",
      "Value at Location D =  12\n"
     ]
    }
   ],
   "source": [
    "print('BEFORE SWAPPING')\n",
    "locC=int(input('Enter the number at location C: '))\n",
    "locD=int(input('Enter the number at location D: '))\n",
    "\n",
    "locC=locC+locD\n",
    "locD=locC-locD\n",
    "locC=locC-locD\n",
    "print('AFTER SWAPPING')\n",
    "print('value at Location C = ',locC)\n",
    "print('Value at Location D = ',locD)"
   ]
  },
  {
   "cell_type": "markdown",
   "metadata": {},
   "source": [
    "## (g) Sum of digits"
   ]
  },
  {
   "cell_type": "code",
   "execution_count": 4,
   "metadata": {},
   "outputs": [
    {
     "name": "stdout",
     "output_type": "stream",
     "text": [
      "Enter 5 digit number: 22331\n",
      "The sum of digits:  11\n"
     ]
    }
   ],
   "source": [
    "digit=int(input('Enter 5 digit number: '))\n",
    "tot=0\n",
    "while digit>0:\n",
    "    rem=digit%10\n",
    "    tot=int(tot+rem)\n",
    "    digit=digit/10\n",
    "print('The sum of digits: ',tot)"
   ]
  },
  {
   "cell_type": "markdown",
   "metadata": {},
   "source": [
    "## (h) Reverse Number"
   ]
  },
  {
   "cell_type": "code",
   "execution_count": 7,
   "metadata": {},
   "outputs": [
    {
     "name": "stdout",
     "output_type": "stream",
     "text": [
      "Enter 5 digit number: 12345\n",
      "Reverse Number =  54321\n"
     ]
    }
   ],
   "source": [
    "digit=int(input('Enter 5 digit number: '))\n",
    "reverse=0\n",
    "while (digit>0):\n",
    "    rem=digit%10\n",
    "    reverse=(reverse*10)+rem\n",
    "    digit=digit//10\n",
    "print('Reverse Number = ',reverse)"
   ]
  },
  {
   "cell_type": "markdown",
   "metadata": {},
   "source": [
    "## (i) Sum of specific digits"
   ]
  },
  {
   "cell_type": "code",
   "execution_count": 3,
   "metadata": {},
   "outputs": [
    {
     "name": "stdout",
     "output_type": "stream",
     "text": [
      "Enter 4 digit number: 1234\n",
      "\n",
      "Sum of first and last digit is : 5\n"
     ]
    }
   ],
   "source": [
    "digit=int(input('Enter 4 digit number: '))\n",
    "rev = 0\n",
    "fd = 0\n",
    "s = 0\n",
    "\n",
    "ld = digit % 10\n",
    "\n",
    "while digit> 0:\n",
    "    r = digit % 10\n",
    "    rev = rev * 10 + r\n",
    "    digit = int(digit / 10)\n",
    "\n",
    "fd = rev % 10\n",
    "s = fd + ld\n",
    "print(\"\\nSum of first and last digit is :\", s)"
   ]
  },
  {
   "cell_type": "markdown",
   "metadata": {},
   "source": [
    "## (j) Population Count"
   ]
  },
  {
   "cell_type": "code",
   "execution_count": 4,
   "metadata": {},
   "outputs": [],
   "source": [
    "mp=52   #men percentage\n",
    "tl=48    #total literacy\n",
    "tp=80000 #total population\n",
    "lm=35*tp  # literate men =lm\n"
   ]
  },
  {
   "cell_type": "markdown",
   "metadata": {},
   "source": [
    "## (k) Currency Problem "
   ]
  },
  {
   "cell_type": "code",
   "execution_count": 7,
   "metadata": {},
   "outputs": [
    {
     "name": "stdout",
     "output_type": "stream",
     "text": [
      "Enter the amount(in hundreds) to be withdrawn: 456\n",
      "Required notes of 100:  4\n",
      "Required notes of 50:  1\n",
      "Required notes of 10:  0\n",
      "Amount still remaining:  6\n"
     ]
    }
   ],
   "source": [
    "amount=int(input('Enter the amount(in hundreds) to be withdrawn: '))\n",
    "print('Required notes of 100: ',int(amount/100))\n",
    "print('Required notes of 50: ',int((amount%100)/50))\n",
    "print('Required notes of 10: ',int(((amount%100)%50)/10))\n",
    "print('Amount still remaining: ',int(((amount%100)%50)%10))"
   ]
  },
  {
   "cell_type": "markdown",
   "metadata": {},
   "source": [
    "## (l) Cost price problem"
   ]
  },
  {
   "cell_type": "code",
   "execution_count": 8,
   "metadata": {},
   "outputs": [
    {
     "name": "stdout",
     "output_type": "stream",
     "text": [
      "Enter the selling price of 15 items: 6000\n",
      "Enter the profit: 110\n",
      "Cost price of one item :  290.0\n"
     ]
    }
   ],
   "source": [
    "sp=float(input('Enter the selling price of 15 items: '))\n",
    "profit=float(input('Enter the profit: '))\n",
    "selling=sp/15\n",
    "cp=selling-profit\n",
    "print('Cost price of one item : ', cp)"
   ]
  },
  {
   "cell_type": "markdown",
   "metadata": {},
   "source": [
    "## (m) Modifying a number"
   ]
  },
  {
   "cell_type": "code",
   "execution_count": 10,
   "metadata": {},
   "outputs": [
    {
     "name": "stdout",
     "output_type": "stream",
     "text": [
      "Enter a 5 digit number: 12345\n",
      "12345\n"
     ]
    },
    {
     "ename": "TypeError",
     "evalue": "unsupported operand type(s) for +: 'NoneType' and 'int'",
     "output_type": "error",
     "traceback": [
      "\u001b[1;31m---------------------------------------------------------------------------\u001b[0m",
      "\u001b[1;31mTypeError\u001b[0m                                 Traceback (most recent call last)",
      "\u001b[1;32m<ipython-input-10-79fbc5da6670>\u001b[0m in \u001b[0;36m<module>\u001b[1;34m\u001b[0m\n\u001b[0;32m      1\u001b[0m \u001b[0mnum\u001b[0m\u001b[1;33m=\u001b[0m\u001b[0mprint\u001b[0m\u001b[1;33m(\u001b[0m\u001b[0mint\u001b[0m\u001b[1;33m(\u001b[0m\u001b[0minput\u001b[0m\u001b[1;33m(\u001b[0m\u001b[1;34m'Enter a 5 digit number: '\u001b[0m\u001b[1;33m)\u001b[0m\u001b[1;33m)\u001b[0m\u001b[1;33m)\u001b[0m\u001b[1;33m\u001b[0m\u001b[0m\n\u001b[1;32m----> 2\u001b[1;33m \u001b[0mnum\u001b[0m\u001b[1;33m=\u001b[0m\u001b[0mnum\u001b[0m\u001b[1;33m+\u001b[0m\u001b[0mint\u001b[0m\u001b[1;33m(\u001b[0m\u001b[1;34m'1'\u001b[0m\u001b[1;33m*\u001b[0m\u001b[0mlen\u001b[0m\u001b[1;33m(\u001b[0m\u001b[0mstr\u001b[0m\u001b[1;33m(\u001b[0m\u001b[0mnum\u001b[0m\u001b[1;33m)\u001b[0m\u001b[1;33m)\u001b[0m\u001b[1;33m)\u001b[0m\u001b[1;33m\u001b[0m\u001b[0m\n\u001b[0m\u001b[0;32m      3\u001b[0m \u001b[0mprint\u001b[0m\u001b[1;33m(\u001b[0m\u001b[1;34m'Number after adding : '\u001b[0m\u001b[1;33m,\u001b[0m\u001b[0mnum\u001b[0m\u001b[1;33m)\u001b[0m\u001b[1;33m\u001b[0m\u001b[0m\n",
      "\u001b[1;31mTypeError\u001b[0m: unsupported operand type(s) for +: 'NoneType' and 'int'"
     ]
    }
   ],
   "source": [
    "num=print(int(input('Enter a 5 digit number: ')))\n",
    "num=num+int('1'*len(str(num)))\n",
    "print('Number after adding : ',num)"
   ]
  },
  {
   "cell_type": "markdown",
   "metadata": {},
   "source": [
    "# Chapter 2: Control Structures"
   ]
  },
  {
   "cell_type": "markdown",
   "metadata": {},
   "source": [
    "## (a) Selling Problem"
   ]
  },
  {
   "cell_type": "code",
   "execution_count": null,
   "metadata": {},
   "outputs": [],
   "source": [
    "cp=int(input('Enter the cost price: '))\n",
    "sp=int(input('Enter the selling price: '))\n",
    "if(cp>sp):\n",
    "    print('Loss incurred')\n",
    "    loss=cp-sp\n",
    "    print('Loss = ',loss)\n",
    "elif(cp==sp):\n",
    "    print('No profit no loss')\n",
    "else:\n",
    "    print('Profit incurred')\n",
    "    profit=sp-cp\n",
    "    print('Profit = ',profit)"
   ]
  },
  {
   "cell_type": "markdown",
   "metadata": {},
   "source": [
    "## (b) Odd/Even problem"
   ]
  },
  {
   "cell_type": "code",
   "execution_count": 16,
   "metadata": {},
   "outputs": [
    {
     "name": "stdout",
     "output_type": "stream",
     "text": [
      "Enter a number: 23\n",
      "Odd number\n"
     ]
    }
   ],
   "source": [
    "num=int(input('Enter a number: '))\n",
    "if(num%2==0):\n",
    "    print('Even number')\n",
    "else:\n",
    "    print('Odd number')"
   ]
  },
  {
   "cell_type": "markdown",
   "metadata": {},
   "source": [
    "## (c) Leap year problem"
   ]
  },
  {
   "cell_type": "code",
   "execution_count": 19,
   "metadata": {},
   "outputs": [
    {
     "name": "stdout",
     "output_type": "stream",
     "text": [
      "Enter the year: 2019\n",
      "Not a leap year\n"
     ]
    }
   ],
   "source": [
    "year=int(input('Enter the year: '))\n",
    "if(year%4==0):\n",
    "    print('Leap Year')\n",
    "else:\n",
    "    print('Not a leap year')"
   ]
  },
  {
   "cell_type": "markdown",
   "metadata": {},
   "source": [
    "## (d) Calender Problem"
   ]
  },
  {
   "cell_type": "code",
   "execution_count": 3,
   "metadata": {},
   "outputs": [
    {
     "name": "stdout",
     "output_type": "stream",
     "text": [
      "Enter the year : 1994\n",
      "It'll be friday on 01/01/ 1994\n"
     ]
    }
   ],
   "source": [
    "year=int(input('Enter the year : '))\n",
    "diff=year-1900\n",
    "lpyr=int(diff/4)  #no. of leap years\n",
    "nmyr=diff-lpyr   #no. of normal years\n",
    "td=((nmyr*365)+(lpyr*366)) #total days\n",
    "day=td%7\n",
    "if(day == 1):\n",
    "    print (\"It'll be monday on 01/01/\", year)\n",
    "elif(day == 2):\n",
    "    print (\"It'll be tuesday on 01/01/\", year)\n",
    "elif(day == 3):\n",
    "    print(\"It'll be wednesday on 01/01/\", year)\n",
    "elif(day == 4):\n",
    "    print(\"It'll be thursday on 01/01/\", year)\n",
    "elif(day == 5):\n",
    "    print(\"It'll be friday on 01/01/\", year)\n",
    "elif(day == 6):\n",
    "    print(\"It'll be saturday on 01/01/\", year)\n",
    "elif(day == 0):\n",
    "    print(\"It'll be sunday on 01/01/\", year)"
   ]
  },
  {
   "cell_type": "markdown",
   "metadata": {},
   "source": [
    "## (e) Palindrome"
   ]
  },
  {
   "cell_type": "code",
   "execution_count": 8,
   "metadata": {},
   "outputs": [
    {
     "name": "stdout",
     "output_type": "stream",
     "text": [
      "Enter a number = 12345\n",
      "Reverse Number =  54321\n"
     ]
    }
   ],
   "source": [
    "num=int(input('Enter a number = '))\n",
    "rev=0\n",
    "while (num>0):\n",
    "    rem=num%10\n",
    "    rev=(rev*10)+rem\n",
    "    num=num//10\n",
    "print ('Reverse Number = ',rev)\n",
    "if (rev==num):\n",
    "    print('Reverse number is same as original number')"
   ]
  },
  {
   "cell_type": "markdown",
   "metadata": {},
   "source": [
    "## (f) Age Problem"
   ]
  },
  {
   "cell_type": "code",
   "execution_count": 11,
   "metadata": {},
   "outputs": [
    {
     "name": "stdout",
     "output_type": "stream",
     "text": [
      "Enter age of Ram: 45\n",
      "Enter age of Shyam: 34\n",
      "Enter age of Ajay: 56\n",
      "Youngest: Shyam\n"
     ]
    }
   ],
   "source": [
    "Ram=int(input('Enter age of Ram: '))\n",
    "Shyam=int(input('Enter age of Shyam: '))\n",
    "Ajay=int(input('Enter age of Ajay: '))\n",
    "if(Ram<Shyam) and (Ram<Ajay):\n",
    "    print('Youngest: Ram')\n",
    "elif(Ram>Shyam) and (Shyam<Ajay):\n",
    "    print('Youngest: Shyam')\n",
    "elif(Ram>Ajay) and (Shyam>Ajay):\n",
    "    print('Youngest: Ajay')"
   ]
  },
  {
   "cell_type": "markdown",
   "metadata": {},
   "source": [
    "## (g) Triangle Problem"
   ]
  },
  {
   "cell_type": "code",
   "execution_count": 12,
   "metadata": {},
   "outputs": [
    {
     "name": "stdout",
     "output_type": "stream",
     "text": [
      "Enter the 1st angle : 45\n",
      "Enter the 2nd angle : 45\n",
      "Enter the 3rd angle : 90\n",
      "The triangle is valid\n"
     ]
    }
   ],
   "source": [
    "ang1=float(input('Enter the 1st angle : '))\n",
    "ang2=float(input('Enter the 2nd angle : '))\n",
    "ang3=float(input('Enter the 3rd angle : '))\n",
    "k=ang1+ang2+ang3\n",
    "if(k==180):\n",
    "    print('The triangle is valid')\n",
    "else:\n",
    "    print('The triangle is not valid')"
   ]
  },
  {
   "cell_type": "markdown",
   "metadata": {},
   "source": [
    "## (h) Absolute value"
   ]
  },
  {
   "cell_type": "code",
   "execution_count": 14,
   "metadata": {},
   "outputs": [
    {
     "name": "stdout",
     "output_type": "stream",
     "text": [
      "Enter any number: -78\n",
      "Absolute value:  78\n"
     ]
    }
   ],
   "source": [
    "num=int(input('Enter any number: '))\n",
    "if(num<0):\n",
    "    num=num+2*(-num)\n",
    "print('Absolute value: ',num)"
   ]
  },
  {
   "cell_type": "markdown",
   "metadata": {},
   "source": [
    "## (i) Rectangle problem"
   ]
  },
  {
   "cell_type": "code",
   "execution_count": 15,
   "metadata": {},
   "outputs": [
    {
     "name": "stdout",
     "output_type": "stream",
     "text": [
      "Enter the length: 5\n",
      "Enter the breadth: 4\n",
      "Area is greater than perimeter with the values of length  5  and breadth  4  . \n"
     ]
    }
   ],
   "source": [
    "l=int(input('Enter the length: '))\n",
    "b=int(input('Enter the breadth: '))\n",
    "area=l*b\n",
    "perimeter=2*(l+b)\n",
    "if(area>perimeter):\n",
    "    print('Area is greater than perimeter with the values of length ',l,' and breadth ',b,' . ')"
   ]
  },
  {
   "cell_type": "markdown",
   "metadata": {},
   "source": []
  }
 ],
 "metadata": {
  "kernelspec": {
   "display_name": "Python 3",
   "language": "python",
   "name": "python3"
  },
  "language_info": {
   "codemirror_mode": {
    "name": "ipython",
    "version": 3
   },
   "file_extension": ".py",
   "mimetype": "text/x-python",
   "name": "python",
   "nbconvert_exporter": "python",
   "pygments_lexer": "ipython3",
   "version": "3.6.5"
  }
 },
 "nbformat": 4,
 "nbformat_minor": 2
}
